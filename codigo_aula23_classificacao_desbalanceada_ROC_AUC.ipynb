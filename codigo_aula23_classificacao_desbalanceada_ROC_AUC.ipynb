{
  "cells": [
    {
      "cell_type": "markdown",
      "metadata": {
        "id": "view-in-github",
        "colab_type": "text"
      },
      "source": [
        "<a href=\"https://colab.research.google.com/github/xaximpvp2/master/blob/main/codigo_aula23_classificacao_desbalanceada_ROC_AUC.ipynb\" target=\"_parent\"><img src=\"https://colab.research.google.com/assets/colab-badge.svg\" alt=\"Open In Colab\"/></a>"
      ]
    },
    {
      "cell_type": "markdown",
      "metadata": {
        "id": "cnRpPyBvdrWW"
      },
      "source": [
        "# Classificação desbalanceada (Escolha do valor de limiar para classicação e cálculo das métricas ROC e AUC)\n",
        "\n",
        "Esse notebook é uma tradução e adaptação do exemplo apresentado [no site do Keras](https://keras.io/examples/structured_data/imbalanced_classification/), criado por [fchollet](https://twitter.com/fchollet), e que utiliza essa base de dados do Kaggle [aqui](https://www.kaggle.com/datasets/mlg-ulb/creditcardfraud).\n"
      ]
    },
    {
      "cell_type": "markdown",
      "metadata": {
        "id": "tjLuu-SCdrWc"
      },
      "source": [
        "## Introdução\n",
        "\n",
        "Este exemplo mostra como treinar um modelo classificador quando os dados são altamente desbalanceados. O objetivo é treinar uma rede neural capaz de identificar operações financeiras fraudulentas."
      ]
    },
    {
      "cell_type": "markdown",
      "metadata": {
        "id": "GuR9jf80drWd"
      },
      "source": [
        "## Vetorizando os dados CSV"
      ]
    },
    {
      "cell_type": "code",
      "execution_count": null,
      "metadata": {
        "colab": {
          "base_uri": "https://localhost:8080/"
        },
        "id": "C2Anb2pbdrWe",
        "outputId": "b6c3884a-afdd-470e-8f52-0a41e2b37800"
      },
      "outputs": [
        {
          "output_type": "stream",
          "name": "stdout",
          "text": [
            "CABECALHO: \"Time\",\"V1\",\"V2\",\"V3\",\"V4\",\"V5\",\"V6\",\"V7\",\"V8\",\"V9\",\"V10\",\"V11\",\"V12\",\"V13\",\"V14\",\"V15\",\"V16\",\"V17\",\"V18\",\"V19\",\"V20\",\"V21\",\"V22\",\"V23\",\"V24\",\"V25\",\"V26\",\"V27\",\"V28\",\"Amount\",\"Class\"\n",
            "CARACTERISTICAS: [0.0, -1.3598071336738, -0.0727811733098497, 2.53634673796914, 1.37815522427443, -0.338320769942518, 0.462387777762292, 0.239598554061257, 0.0986979012610507, 0.363786969611213, 0.0907941719789316, -0.551599533260813, -0.617800855762348, -0.991389847235408, -0.311169353699879, 1.46817697209427, -0.470400525259478, 0.207971241929242, 0.0257905801985591, 0.403992960255733, 0.251412098239705, -0.018306777944153, 0.277837575558899, -0.110473910188767, 0.0669280749146731, 0.128539358273528, -0.189114843888824, 0.133558376740387, -0.0210530534538215, 149.62]\n",
            "caracteristicas.shape: (284807, 30)\n",
            "valores_alvo.shape: (284807, 1)\n"
          ]
        }
      ],
      "source": [
        "import csv\n",
        "import numpy as np\n",
        "\n",
        "# Os dados reais contendo operações financeiras pode ser obtido em https://www.kaggle.com/mlg-ulb/creditcardfraud/\n",
        "fname = \"creditcard.csv\"\n",
        "\n",
        "todas_caracteristicas = []\n",
        "todos_rotulos         = []\n",
        "with open(fname) as f:\n",
        "    for i, line in enumerate(f):\n",
        "        if i == 0: # primeira linha da tabela: cabeçalho\n",
        "            print(\"CABECALHO:\", line.strip())\n",
        "            continue  # pula cabeçalho da tabela\n",
        "        fields = line.strip().split(\",\")\n",
        "        todas_caracteristicas.append([float(v.replace('\"', \"\")) for v in fields[:-1]])\n",
        "        todos_rotulos.append([int(fields[-1].replace('\"', \"\"))])\n",
        "        if i == 1:\n",
        "            print(\"CARACTERISTICAS:\", todas_caracteristicas[-1])\n",
        "\n",
        "caracteristicas = np.array(todas_caracteristicas, dtype=\"float32\")\n",
        "valores_alvo    = np.array(todos_rotulos, dtype=\"uint8\")\n",
        "print(\"caracteristicas.shape:\", caracteristicas.shape)\n",
        "print(\"valores_alvo.shape:\", valores_alvo.shape)"
      ]
    },
    {
      "cell_type": "markdown",
      "metadata": {
        "id": "0rNISdjydrWg"
      },
      "source": [
        "## Preparando os dados"
      ]
    },
    {
      "cell_type": "code",
      "execution_count": null,
      "metadata": {
        "colab": {
          "base_uri": "https://localhost:8080/"
        },
        "id": "E1DVxQk1drWh",
        "outputId": "ee2b964c-b422-47d0-e0e6-9c1e567bcb44"
      },
      "outputs": [
        {
          "output_type": "stream",
          "name": "stdout",
          "text": [
            "Número de amostras de treinamento: 227846\n",
            "Número de amostras de validação: 56961\n"
          ]
        }
      ],
      "source": [
        "num_amostras_validacao = int(len(caracteristicas) * 0.2) # deixaremos 20% dos dados para validação\n",
        "X_trein = caracteristicas[:-num_amostras_validacao]\n",
        "y_trein = valores_alvo[:-num_amostras_validacao]\n",
        "X_val   = caracteristicas[-num_amostras_validacao:]\n",
        "y_val   = valores_alvo[-num_amostras_validacao:]\n",
        "\n",
        "print(\"Número de amostras de treinamento:\", len(X_trein))\n",
        "print(\"Número de amostras de validação:\", len(X_val))"
      ]
    },
    {
      "cell_type": "markdown",
      "metadata": {
        "id": "CnDCSu7zdrWh"
      },
      "source": [
        "## Análise do desbalanceamento nos rótulos e atribuição de pesos diferentes"
      ]
    },
    {
      "cell_type": "code",
      "execution_count": null,
      "metadata": {
        "colab": {
          "base_uri": "https://localhost:8080/"
        },
        "id": "nMiBYrdGdrWi",
        "outputId": "7f6b7a27-3eeb-48fd-ae30-e9e8cde36314"
      },
      "outputs": [
        {
          "output_type": "stream",
          "name": "stdout",
          "text": [
            "[227429    417]\n",
            "Número de amostras positivas no conjunto de dados: 417 (0.18% do total)\n",
            "Peso para classe 0: 4.396976638863118e-06\n",
            "Peso para classe 1: 0.002398081534772182\n"
          ]
        }
      ],
      "source": [
        "qtdade_amostras_cada_classe = np.bincount(y_trein[:, 0]) # função do numpy que conta a quantidade de amostras para cada classe\n",
        "print(qtdade_amostras_cada_classe)\n",
        "print(\n",
        "    \"Número de amostras positivas no conjunto de dados: {} ({:.2f}% do total)\".format(\n",
        "        qtdade_amostras_cada_classe[1], 100 * float(qtdade_amostras_cada_classe[1]) / len(y_trein)\n",
        "    )\n",
        ")\n",
        "\n",
        "peso_classe_0 = 1.0 / qtdade_amostras_cada_classe[0]\n",
        "peso_classe_1 = 1.0 / qtdade_amostras_cada_classe[1]\n",
        "\n",
        "print(\"Peso para classe 0:\", peso_classe_0 )\n",
        "print(\"Peso para classe 1:\", peso_classe_1 )\n",
        "\n",
        "pesos_classes = {0: peso_classe_0, 1: peso_classe_1} # cria um dicionário com o peso de cada classe"
      ]
    },
    {
      "cell_type": "markdown",
      "metadata": {
        "id": "e-E-Ra1wdrWj"
      },
      "source": [
        "## Normalizando os dados usando média e desvio padrão"
      ]
    },
    {
      "cell_type": "code",
      "execution_count": null,
      "metadata": {
        "id": "sdg1DpuhdrWj"
      },
      "outputs": [],
      "source": [
        "media    = np.mean(X_trein, axis=0)\n",
        "X_trein -= media\n",
        "X_val   -= media\n",
        "desvio   = np.std(X_trein, axis=0)\n",
        "X_trein /= desvio\n",
        "X_val   /= desvio"
      ]
    },
    {
      "cell_type": "markdown",
      "metadata": {
        "id": "C8BviQ2GdrWj"
      },
      "source": [
        "## Criando uma rede neural para classificação binária"
      ]
    },
    {
      "cell_type": "code",
      "execution_count": null,
      "metadata": {
        "colab": {
          "base_uri": "https://localhost:8080/",
          "height": 272
        },
        "id": "l6E71AoqdrWk",
        "outputId": "42636c26-24b4-4ff5-a7b1-8a349e64db4b"
      },
      "outputs": [
        {
          "output_type": "display_data",
          "data": {
            "text/plain": [
              "\u001b[1mModel: \"sequential\"\u001b[0m\n"
            ],
            "text/html": [
              "<pre style=\"white-space:pre;overflow-x:auto;line-height:normal;font-family:Menlo,'DejaVu Sans Mono',consolas,'Courier New',monospace\"><span style=\"font-weight: bold\">Model: \"sequential\"</span>\n",
              "</pre>\n"
            ]
          },
          "metadata": {}
        },
        {
          "output_type": "display_data",
          "data": {
            "text/plain": [
              "┏━━━━━━━━━━━━━━━━━━━━━━━━━━━━━━━━━━━━━━┳━━━━━━━━━━━━━━━━━━━━━━━━━━━━━┳━━━━━━━━━━━━━━━━━┓\n",
              "┃\u001b[1m \u001b[0m\u001b[1mLayer (type)                        \u001b[0m\u001b[1m \u001b[0m┃\u001b[1m \u001b[0m\u001b[1mOutput Shape               \u001b[0m\u001b[1m \u001b[0m┃\u001b[1m \u001b[0m\u001b[1m        Param #\u001b[0m\u001b[1m \u001b[0m┃\n",
              "┡━━━━━━━━━━━━━━━━━━━━━━━━━━━━━━━━━━━━━━╇━━━━━━━━━━━━━━━━━━━━━━━━━━━━━╇━━━━━━━━━━━━━━━━━┩\n",
              "│ dense (\u001b[38;5;33mDense\u001b[0m)                        │ (\u001b[38;5;45mNone\u001b[0m, \u001b[38;5;34m256\u001b[0m)                 │           \u001b[38;5;34m7,936\u001b[0m │\n",
              "├──────────────────────────────────────┼─────────────────────────────┼─────────────────┤\n",
              "│ dense_1 (\u001b[38;5;33mDense\u001b[0m)                      │ (\u001b[38;5;45mNone\u001b[0m, \u001b[38;5;34m256\u001b[0m)                 │          \u001b[38;5;34m65,792\u001b[0m │\n",
              "├──────────────────────────────────────┼─────────────────────────────┼─────────────────┤\n",
              "│ dense_2 (\u001b[38;5;33mDense\u001b[0m)                      │ (\u001b[38;5;45mNone\u001b[0m, \u001b[38;5;34m256\u001b[0m)                 │          \u001b[38;5;34m65,792\u001b[0m │\n",
              "├──────────────────────────────────────┼─────────────────────────────┼─────────────────┤\n",
              "│ dense_3 (\u001b[38;5;33mDense\u001b[0m)                      │ (\u001b[38;5;45mNone\u001b[0m, \u001b[38;5;34m1\u001b[0m)                   │             \u001b[38;5;34m257\u001b[0m │\n",
              "└──────────────────────────────────────┴─────────────────────────────┴─────────────────┘\n"
            ],
            "text/html": [
              "<pre style=\"white-space:pre;overflow-x:auto;line-height:normal;font-family:Menlo,'DejaVu Sans Mono',consolas,'Courier New',monospace\">┏━━━━━━━━━━━━━━━━━━━━━━━━━━━━━━━━━━━━━━┳━━━━━━━━━━━━━━━━━━━━━━━━━━━━━┳━━━━━━━━━━━━━━━━━┓\n",
              "┃<span style=\"font-weight: bold\"> Layer (type)                         </span>┃<span style=\"font-weight: bold\"> Output Shape                </span>┃<span style=\"font-weight: bold\">         Param # </span>┃\n",
              "┡━━━━━━━━━━━━━━━━━━━━━━━━━━━━━━━━━━━━━━╇━━━━━━━━━━━━━━━━━━━━━━━━━━━━━╇━━━━━━━━━━━━━━━━━┩\n",
              "│ dense (<span style=\"color: #0087ff; text-decoration-color: #0087ff\">Dense</span>)                        │ (<span style=\"color: #00d7ff; text-decoration-color: #00d7ff\">None</span>, <span style=\"color: #00af00; text-decoration-color: #00af00\">256</span>)                 │           <span style=\"color: #00af00; text-decoration-color: #00af00\">7,936</span> │\n",
              "├──────────────────────────────────────┼─────────────────────────────┼─────────────────┤\n",
              "│ dense_1 (<span style=\"color: #0087ff; text-decoration-color: #0087ff\">Dense</span>)                      │ (<span style=\"color: #00d7ff; text-decoration-color: #00d7ff\">None</span>, <span style=\"color: #00af00; text-decoration-color: #00af00\">256</span>)                 │          <span style=\"color: #00af00; text-decoration-color: #00af00\">65,792</span> │\n",
              "├──────────────────────────────────────┼─────────────────────────────┼─────────────────┤\n",
              "│ dense_2 (<span style=\"color: #0087ff; text-decoration-color: #0087ff\">Dense</span>)                      │ (<span style=\"color: #00d7ff; text-decoration-color: #00d7ff\">None</span>, <span style=\"color: #00af00; text-decoration-color: #00af00\">256</span>)                 │          <span style=\"color: #00af00; text-decoration-color: #00af00\">65,792</span> │\n",
              "├──────────────────────────────────────┼─────────────────────────────┼─────────────────┤\n",
              "│ dense_3 (<span style=\"color: #0087ff; text-decoration-color: #0087ff\">Dense</span>)                      │ (<span style=\"color: #00d7ff; text-decoration-color: #00d7ff\">None</span>, <span style=\"color: #00af00; text-decoration-color: #00af00\">1</span>)                   │             <span style=\"color: #00af00; text-decoration-color: #00af00\">257</span> │\n",
              "└──────────────────────────────────────┴─────────────────────────────┴─────────────────┘\n",
              "</pre>\n"
            ]
          },
          "metadata": {}
        },
        {
          "output_type": "display_data",
          "data": {
            "text/plain": [
              "\u001b[1m Total params: \u001b[0m\u001b[38;5;34m139,777\u001b[0m (546.00 KB)\n"
            ],
            "text/html": [
              "<pre style=\"white-space:pre;overflow-x:auto;line-height:normal;font-family:Menlo,'DejaVu Sans Mono',consolas,'Courier New',monospace\"><span style=\"font-weight: bold\"> Total params: </span><span style=\"color: #00af00; text-decoration-color: #00af00\">139,777</span> (546.00 KB)\n",
              "</pre>\n"
            ]
          },
          "metadata": {}
        },
        {
          "output_type": "display_data",
          "data": {
            "text/plain": [
              "\u001b[1m Trainable params: \u001b[0m\u001b[38;5;34m139,777\u001b[0m (546.00 KB)\n"
            ],
            "text/html": [
              "<pre style=\"white-space:pre;overflow-x:auto;line-height:normal;font-family:Menlo,'DejaVu Sans Mono',consolas,'Courier New',monospace\"><span style=\"font-weight: bold\"> Trainable params: </span><span style=\"color: #00af00; text-decoration-color: #00af00\">139,777</span> (546.00 KB)\n",
              "</pre>\n"
            ]
          },
          "metadata": {}
        },
        {
          "output_type": "display_data",
          "data": {
            "text/plain": [
              "\u001b[1m Non-trainable params: \u001b[0m\u001b[38;5;34m0\u001b[0m (0.00 B)\n"
            ],
            "text/html": [
              "<pre style=\"white-space:pre;overflow-x:auto;line-height:normal;font-family:Menlo,'DejaVu Sans Mono',consolas,'Courier New',monospace\"><span style=\"font-weight: bold\"> Non-trainable params: </span><span style=\"color: #00af00; text-decoration-color: #00af00\">0</span> (0.00 B)\n",
              "</pre>\n"
            ]
          },
          "metadata": {}
        }
      ],
      "source": [
        "import keras\n",
        "\n",
        "modelo = keras.Sequential(\n",
        "    [\n",
        "        keras.Input(shape=X_trein.shape[1:]),\n",
        "        keras.layers.Dense(256, activation=\"relu\"),\n",
        "        keras.layers.Dense(256, activation=\"relu\"),\n",
        "        keras.layers.Dense(256, activation=\"relu\"),\n",
        "        keras.layers.Dense(1, activation=\"sigmoid\"),\n",
        "    ]\n",
        ")\n",
        "modelo.summary()"
      ]
    },
    {
      "cell_type": "markdown",
      "metadata": {
        "id": "_z_1oXeEdrWk"
      },
      "source": [
        "## Treinando o modelo levando em conta o desbalaceamento entre as classes"
      ]
    },
    {
      "cell_type": "code",
      "source": [
        "modelo.compile(optimizer=keras.optimizers.Adam(1e-2), loss=\"binary_crossentropy\")\n",
        "\n",
        "modelo.fit(\n",
        "    X_trein,\n",
        "    y_trein,\n",
        "    batch_size=2048, # define a quantidade de amostras de cada \"mini-lote\" (se comentarmos essa linha, será usado o padrão de 32 amostras por mini-lote)\n",
        "    epochs=30,\n",
        "    class_weight=pesos_classes,\n",
        ")"
      ],
      "metadata": {
        "colab": {
          "base_uri": "https://localhost:8080/"
        },
        "id": "f1c8WPjm4OAP",
        "outputId": "76368816-8e0a-46c1-f2de-992074a92853"
      },
      "execution_count": null,
      "outputs": [
        {
          "output_type": "stream",
          "name": "stdout",
          "text": [
            "Epoch 1/30\n",
            "\u001b[1m112/112\u001b[0m \u001b[32m━━━━━━━━━━━━━━━━━━━━\u001b[0m\u001b[37m\u001b[0m \u001b[1m4s\u001b[0m 9ms/step - loss: 2.9188e-06\n",
            "Epoch 2/30\n",
            "\u001b[1m112/112\u001b[0m \u001b[32m━━━━━━━━━━━━━━━━━━━━\u001b[0m\u001b[37m\u001b[0m \u001b[1m0s\u001b[0m 2ms/step - loss: 1.2148e-06\n",
            "Epoch 3/30\n",
            "\u001b[1m112/112\u001b[0m \u001b[32m━━━━━━━━━━━━━━━━━━━━\u001b[0m\u001b[37m\u001b[0m \u001b[1m0s\u001b[0m 2ms/step - loss: 9.3752e-07\n",
            "Epoch 4/30\n",
            "\u001b[1m112/112\u001b[0m \u001b[32m━━━━━━━━━━━━━━━━━━━━\u001b[0m\u001b[37m\u001b[0m \u001b[1m0s\u001b[0m 2ms/step - loss: 1.1984e-06\n",
            "Epoch 5/30\n",
            "\u001b[1m112/112\u001b[0m \u001b[32m━━━━━━━━━━━━━━━━━━━━\u001b[0m\u001b[37m\u001b[0m \u001b[1m0s\u001b[0m 2ms/step - loss: 8.8246e-07\n",
            "Epoch 6/30\n",
            "\u001b[1m112/112\u001b[0m \u001b[32m━━━━━━━━━━━━━━━━━━━━\u001b[0m\u001b[37m\u001b[0m \u001b[1m0s\u001b[0m 2ms/step - loss: 7.8622e-07\n",
            "Epoch 7/30\n",
            "\u001b[1m112/112\u001b[0m \u001b[32m━━━━━━━━━━━━━━━━━━━━\u001b[0m\u001b[37m\u001b[0m \u001b[1m0s\u001b[0m 2ms/step - loss: 5.6228e-07\n",
            "Epoch 8/30\n",
            "\u001b[1m112/112\u001b[0m \u001b[32m━━━━━━━━━━━━━━━━━━━━\u001b[0m\u001b[37m\u001b[0m \u001b[1m0s\u001b[0m 2ms/step - loss: 5.8731e-07\n",
            "Epoch 9/30\n",
            "\u001b[1m112/112\u001b[0m \u001b[32m━━━━━━━━━━━━━━━━━━━━\u001b[0m\u001b[37m\u001b[0m \u001b[1m0s\u001b[0m 2ms/step - loss: 8.8265e-07\n",
            "Epoch 10/30\n",
            "\u001b[1m112/112\u001b[0m \u001b[32m━━━━━━━━━━━━━━━━━━━━\u001b[0m\u001b[37m\u001b[0m \u001b[1m0s\u001b[0m 2ms/step - loss: 4.4300e-07\n",
            "Epoch 11/30\n",
            "\u001b[1m112/112\u001b[0m \u001b[32m━━━━━━━━━━━━━━━━━━━━\u001b[0m\u001b[37m\u001b[0m \u001b[1m0s\u001b[0m 2ms/step - loss: 2.1369e-06\n",
            "Epoch 12/30\n",
            "\u001b[1m112/112\u001b[0m \u001b[32m━━━━━━━━━━━━━━━━━━━━\u001b[0m\u001b[37m\u001b[0m \u001b[1m0s\u001b[0m 2ms/step - loss: 3.5153e-06\n",
            "Epoch 13/30\n",
            "\u001b[1m112/112\u001b[0m \u001b[32m━━━━━━━━━━━━━━━━━━━━\u001b[0m\u001b[37m\u001b[0m \u001b[1m0s\u001b[0m 2ms/step - loss: 3.4713e-06\n",
            "Epoch 14/30\n",
            "\u001b[1m112/112\u001b[0m \u001b[32m━━━━━━━━━━━━━━━━━━━━\u001b[0m\u001b[37m\u001b[0m \u001b[1m0s\u001b[0m 2ms/step - loss: 2.0820e-06\n",
            "Epoch 15/30\n",
            "\u001b[1m112/112\u001b[0m \u001b[32m━━━━━━━━━━━━━━━━━━━━\u001b[0m\u001b[37m\u001b[0m \u001b[1m0s\u001b[0m 2ms/step - loss: 1.8660e-05\n",
            "Epoch 16/30\n",
            "\u001b[1m112/112\u001b[0m \u001b[32m━━━━━━━━━━━━━━━━━━━━\u001b[0m\u001b[37m\u001b[0m \u001b[1m0s\u001b[0m 2ms/step - loss: 2.0925e-05\n",
            "Epoch 17/30\n",
            "\u001b[1m112/112\u001b[0m \u001b[32m━━━━━━━━━━━━━━━━━━━━\u001b[0m\u001b[37m\u001b[0m \u001b[1m0s\u001b[0m 2ms/step - loss: 2.5020e-06\n",
            "Epoch 18/30\n",
            "\u001b[1m112/112\u001b[0m \u001b[32m━━━━━━━━━━━━━━━━━━━━\u001b[0m\u001b[37m\u001b[0m \u001b[1m0s\u001b[0m 2ms/step - loss: 2.9075e-06\n",
            "Epoch 19/30\n",
            "\u001b[1m112/112\u001b[0m \u001b[32m━━━━━━━━━━━━━━━━━━━━\u001b[0m\u001b[37m\u001b[0m \u001b[1m0s\u001b[0m 2ms/step - loss: 5.4095e-06\n",
            "Epoch 20/30\n",
            "\u001b[1m112/112\u001b[0m \u001b[32m━━━━━━━━━━━━━━━━━━━━\u001b[0m\u001b[37m\u001b[0m \u001b[1m0s\u001b[0m 2ms/step - loss: 8.2519e-06\n",
            "Epoch 21/30\n",
            "\u001b[1m112/112\u001b[0m \u001b[32m━━━━━━━━━━━━━━━━━━━━\u001b[0m\u001b[37m\u001b[0m \u001b[1m0s\u001b[0m 2ms/step - loss: 8.8726e-06\n",
            "Epoch 22/30\n",
            "\u001b[1m112/112\u001b[0m \u001b[32m━━━━━━━━━━━━━━━━━━━━\u001b[0m\u001b[37m\u001b[0m \u001b[1m0s\u001b[0m 3ms/step - loss: 5.5210e-06\n",
            "Epoch 23/30\n",
            "\u001b[1m112/112\u001b[0m \u001b[32m━━━━━━━━━━━━━━━━━━━━\u001b[0m\u001b[37m\u001b[0m \u001b[1m0s\u001b[0m 3ms/step - loss: 2.3128e-05\n",
            "Epoch 24/30\n",
            "\u001b[1m112/112\u001b[0m \u001b[32m━━━━━━━━━━━━━━━━━━━━\u001b[0m\u001b[37m\u001b[0m \u001b[1m0s\u001b[0m 3ms/step - loss: 6.8949e-06\n",
            "Epoch 25/30\n",
            "\u001b[1m112/112\u001b[0m \u001b[32m━━━━━━━━━━━━━━━━━━━━\u001b[0m\u001b[37m\u001b[0m \u001b[1m0s\u001b[0m 3ms/step - loss: 1.2897e-05\n",
            "Epoch 26/30\n",
            "\u001b[1m112/112\u001b[0m \u001b[32m━━━━━━━━━━━━━━━━━━━━\u001b[0m\u001b[37m\u001b[0m \u001b[1m0s\u001b[0m 3ms/step - loss: 1.6084e-05\n",
            "Epoch 27/30\n",
            "\u001b[1m112/112\u001b[0m \u001b[32m━━━━━━━━━━━━━━━━━━━━\u001b[0m\u001b[37m\u001b[0m \u001b[1m1s\u001b[0m 4ms/step - loss: 1.9291e-05\n",
            "Epoch 28/30\n",
            "\u001b[1m112/112\u001b[0m \u001b[32m━━━━━━━━━━━━━━━━━━━━\u001b[0m\u001b[37m\u001b[0m \u001b[1m0s\u001b[0m 4ms/step - loss: 1.6232e-04\n",
            "Epoch 29/30\n",
            "\u001b[1m112/112\u001b[0m \u001b[32m━━━━━━━━━━━━━━━━━━━━\u001b[0m\u001b[37m\u001b[0m \u001b[1m0s\u001b[0m 3ms/step - loss: 3.8898e-04\n",
            "Epoch 30/30\n",
            "\u001b[1m112/112\u001b[0m \u001b[32m━━━━━━━━━━━━━━━━━━━━\u001b[0m\u001b[37m\u001b[0m \u001b[1m0s\u001b[0m 2ms/step - loss: 3.4575e-04\n"
          ]
        },
        {
          "output_type": "execute_result",
          "data": {
            "text/plain": [
              "<keras.src.callbacks.history.History at 0x7bb411a9d3c0>"
            ]
          },
          "metadata": {},
          "execution_count": 9
        }
      ]
    },
    {
      "cell_type": "code",
      "source": [
        "probabilidades = modelo.predict(X_val) # cálculo da saída da rede neural para as transações de validação\n",
        "\n",
        "print(probabilidades.shape) # verificando o shape das probabilidades\n",
        "\n",
        "print(probabilidades[:10])"
      ],
      "metadata": {
        "colab": {
          "base_uri": "https://localhost:8080/"
        },
        "id": "roLEfruXwSv0",
        "outputId": "f024815c-609d-426a-8eb7-3fe5cc7597c9"
      },
      "execution_count": null,
      "outputs": [
        {
          "output_type": "stream",
          "name": "stdout",
          "text": [
            "\u001b[1m1781/1781\u001b[0m \u001b[32m━━━━━━━━━━━━━━━━━━━━\u001b[0m\u001b[37m\u001b[0m \u001b[1m2s\u001b[0m 1ms/step\n",
            "(56961, 1)\n",
            "[[2.3246011e-10]\n",
            " [0.0000000e+00]\n",
            " [6.2711719e-17]\n",
            " [2.9744677e-02]\n",
            " [3.0384323e-01]\n",
            " [4.6950017e-09]\n",
            " [6.8316152e-03]\n",
            " [8.9405116e-13]\n",
            " [1.8210466e-01]\n",
            " [1.5553486e-08]]\n"
          ]
        }
      ]
    },
    {
      "cell_type": "code",
      "source": [
        "valor_limiar = 0.5\n",
        "\n",
        "y_val_est = (probabilidades >= valor_limiar).astype(int)\n",
        "\n",
        "print(y_val_est.shape)\n",
        "print(y_val_est[:10])"
      ],
      "metadata": {
        "colab": {
          "base_uri": "https://localhost:8080/"
        },
        "id": "uMThrh-3ws1z",
        "outputId": "91581517-04c0-4771-c306-e5adeedbd470"
      },
      "execution_count": null,
      "outputs": [
        {
          "output_type": "stream",
          "name": "stdout",
          "text": [
            "(56961, 1)\n",
            "[[0]\n",
            " [0]\n",
            " [0]\n",
            " [0]\n",
            " [0]\n",
            " [0]\n",
            " [0]\n",
            " [0]\n",
            " [0]\n",
            " [0]]\n"
          ]
        }
      ]
    },
    {
      "cell_type": "code",
      "source": [
        "import matplotlib.pyplot as plt\n",
        "from sklearn.metrics import confusion_matrix, ConfusionMatrixDisplay\n",
        "\n",
        "cm = confusion_matrix(y_val, y_val_est) # cm = confusion matrix = matriz de confusão\n",
        "disp = ConfusionMatrixDisplay(confusion_matrix=cm)\n",
        "disp.plot()\n",
        "\n",
        "plt.show()\n"
      ],
      "metadata": {
        "colab": {
          "base_uri": "https://localhost:8080/",
          "height": 449
        },
        "id": "RQOnlKEU6ofH",
        "outputId": "5991dcd9-17c1-47f4-9a91-7472a2069a5f"
      },
      "execution_count": null,
      "outputs": [
        {
          "output_type": "display_data",
          "data": {
            "text/plain": [
              "<Figure size 640x480 with 2 Axes>"
            ],
            "image/png": "[encoded data removed]"
          },
          "metadata": {}
        }
      ]
    },
    {
      "cell_type": "markdown",
      "metadata": {
        "id": "oGeOqgM_drWl"
      },
      "source": [
        "A partir da matriz de confusão, gerada para as transações de validação, podemos perceber que (os valores abaixo podem variar ligeiramente devido à inicialização aleatória dos pesos da rede neural):\n",
        "\n",
        "- 56961 transações de validação foram avalidadas pela rede neural\n",
        "- 66 transações foram corretamente identificadas como fraudulentas\n",
        "- 8 transações fraudulentas não foram detectadas\n",
        "- Infelizmente, 441 transações não fraudulentas foram incorretamente classificadas como fraudulentas.\n"
      ]
    },
    {
      "cell_type": "markdown",
      "source": [
        "Abaixo iremos construir uma função que permite calcular a matriz de confusão e suas métricas para diferentes valores de limiar"
      ],
      "metadata": {
        "id": "hPxIQh3JiHOi"
      }
    },
    {
      "cell_type": "code",
      "source": [
        "def calcula_metricas(probabilidades, valor_limiar=0.5):\n",
        "\n",
        "  y_val_est = (probabilidades >= valor_limiar).astype(int)\n",
        "\n",
        "  cm = confusion_matrix(y_val, y_val_est) # cm = confusion matrix = matriz de confusão\n",
        "\n",
        "  # calculando métricas relativas à matriz de confusão\n",
        "\n",
        "  # faremos os cálculos abaixo levando em conta apenas a classe y=1 como sendo a classe \"positiva\" (classe de referência)\n",
        "  # Note que a posição dos elementos na matriz de confusão obtida pela função \"confusion_matrix\" do sk learn é diferente daquela apresentada nos slides da aula.\n",
        "  vp = cm[1,1] # verdadeiros positivos\n",
        "  vn = cm[0,0] # verdadeiros negativos\n",
        "  fp = cm[0,1] # falsos positivos\n",
        "  fn = cm[1,0] # falsos negativos\n",
        "\n",
        "  precisao  = vp / (vp + fp)\n",
        "  revocacao = vp / (vp + fn)\n",
        "  f1_score  = 2*precisao*revocacao / (precisao + revocacao)\n",
        "  taxa_VP   = revocacao\n",
        "  taxa_FP   = fp / (fp + vn)\n",
        "\n",
        "  return precisao, revocacao, f1_score, taxa_VP, taxa_FP"
      ],
      "metadata": {
        "id": "bnbDHPc9y9II"
      },
      "execution_count": null,
      "outputs": []
    },
    {
      "cell_type": "code",
      "source": [
        "valor_limiar = 0.5\n",
        "\n",
        "precisao, revocacao, f1_score, taxa_VP, taxa_FP = calcula_metricas(probabilidades, valor_limiar)\n",
        "\n",
        "print(\"precisão: \", precisao)\n",
        "\n",
        "print(\"recall: \", revocacao)\n",
        "\n",
        "print(\"F1 score: \", f1_score)\n",
        "\n",
        "print(\"taxa de VP: \", taxa_VP)\n",
        "\n",
        "print(\"taxa de FP: \", taxa_FP)"
      ],
      "metadata": {
        "colab": {
          "base_uri": "https://localhost:8080/"
        },
        "id": "TxzpQGvYieGS",
        "outputId": "5d7102ff-c489-4ac2-ceff-674e3ef9525a"
      },
      "execution_count": null,
      "outputs": [
        {
          "output_type": "stream",
          "name": "stdout",
          "text": [
            "precisão:  0.07736063708759955\n",
            "recall:  0.9066666666666666\n",
            "F1 score:  0.14255765199161427\n",
            "taxa de VP:  0.9066666666666666\n",
            "taxa de FP:  0.014256583342122842\n"
          ]
        }
      ]
    },
    {
      "cell_type": "markdown",
      "source": [
        "Note que é possível rodar a célula acima para diversos valores de limiar.\n",
        "\n",
        "A célula abaixo faz isso sistematicamente."
      ],
      "metadata": {
        "id": "D9FaKGyyhpJq"
      }
    },
    {
      "cell_type": "code",
      "source": [
        "passo = 0.02 # define o passo de incremento do valor de limiar\n",
        "valores_limiar = np.arange(0, 1+passo, passo) # define valores de limiar de 0 a 1 crescendo no passo pré-estabelecido\n",
        "taxas_VP = []\n",
        "taxas_FP = []\n",
        "\n",
        "linhas = []\n",
        "\n",
        "for valor_limiar in valores_limiar:\n",
        "  precisao, revocacao, f1_score, taxa_VP, taxa_FP = calcula_metricas(probabilidades, valor_limiar)\n",
        "  linha = {'Valor limiar': valor_limiar, 'Taxa de VP': taxa_VP, 'taxa de FP': taxa_FP}\n",
        "  linhas.append(linha)\n",
        "\n",
        "\n",
        "# Abaixo nós transformamos a lista acima num pandas dataframe\n",
        "\n",
        "import pandas as pd\n",
        "\n",
        "# Cria um DataFrame a partir da lista que contém as linhas da tabela\n",
        "df = pd.DataFrame(linhas)\n",
        "\n",
        "# Mostra o DataFrame resultante\n",
        "# print(df)\n",
        "\n",
        "# Mostra o DataFrame resultante sem omitir linhas\n",
        "pd.set_option('display.max_rows', None)\n",
        "print(df)"
      ],
      "metadata": {
        "colab": {
          "base_uri": "https://localhost:8080/"
        },
        "id": "1dgcgx8YluiJ",
        "outputId": "9541b4b8-5be1-4851-92a5-6457bcef5d38"
      },
      "execution_count": null,
      "outputs": [
        {
          "output_type": "stream",
          "name": "stdout",
          "text": [
            "    Valor limiar  Taxa de VP  taxa de FP\n",
            "0           0.00    1.000000    1.000000\n",
            "1           0.02    0.946667    0.040748\n",
            "2           0.04    0.933333    0.034525\n",
            "3           0.06    0.920000    0.031080\n",
            "4           0.08    0.920000    0.028197\n",
            "5           0.10    0.920000    0.026070\n",
            "6           0.12    0.920000    0.024523\n",
            "7           0.14    0.920000    0.023398\n",
            "8           0.16    0.920000    0.022361\n",
            "9           0.18    0.906667    0.021183\n",
            "10          0.20    0.906667    0.020339\n",
            "11          0.22    0.906667    0.019759\n",
            "12          0.24    0.906667    0.019126\n",
            "13          0.26    0.906667    0.018458\n",
            "14          0.28    0.906667    0.018054\n",
            "15          0.30    0.906667    0.017526\n",
            "16          0.32    0.906667    0.017175\n",
            "17          0.34    0.906667    0.016753\n",
            "18          0.36    0.906667    0.016366\n",
            "19          0.38    0.906667    0.016243\n",
            "20          0.40    0.906667    0.016014\n",
            "21          0.42    0.906667    0.015698\n",
            "22          0.44    0.906667    0.015188\n",
            "23          0.46    0.906667    0.014854\n",
            "24          0.48    0.906667    0.014468\n",
            "25          0.50    0.906667    0.014257\n",
            "26          0.52    0.906667    0.013975\n",
            "27          0.54    0.906667    0.013712\n",
            "28          0.56    0.906667    0.013466\n",
            "29          0.58    0.906667    0.013290\n",
            "30          0.60    0.906667    0.013096\n",
            "31          0.62    0.906667    0.012780\n",
            "32          0.64    0.906667    0.012516\n",
            "33          0.66    0.906667    0.012323\n",
            "34          0.68    0.906667    0.012182\n",
            "35          0.70    0.906667    0.011989\n",
            "36          0.72    0.906667    0.011813\n",
            "37          0.74    0.906667    0.011655\n",
            "38          0.76    0.906667    0.011532\n",
            "39          0.78    0.906667    0.011426\n",
            "40          0.80    0.906667    0.011198\n",
            "41          0.82    0.906667    0.010969\n",
            "42          0.84    0.893333    0.010776\n",
            "43          0.86    0.893333    0.010424\n",
            "44          0.88    0.893333    0.010126\n",
            "45          0.90    0.893333    0.009879\n",
            "46          0.92    0.893333    0.009633\n",
            "47          0.94    0.893333    0.009317\n",
            "48          0.96    0.893333    0.008772\n",
            "49          0.98    0.880000    0.008016\n",
            "50          1.00    0.853333    0.002953\n"
          ]
        }
      ]
    },
    {
      "cell_type": "code",
      "source": [
        "from sklearn.metrics import roc_curve, auc\n",
        "\n",
        "fpr, tpr, thresholds = roc_curve(y_val, probabilidades) # já temos esses valores, portanto não precisamos recalculamos usando o SK-learn\n",
        "\n",
        "roc_auc = auc(fpr, tpr)\n",
        "# roc_auc = auc(taxa_FP, taxa_VP)\n",
        "\n",
        "plt.figure()\n",
        "plt.plot(fpr, tpr, color='darkorange', lw=2, label=f'ROC curve (AUC = {roc_auc:.2f})')\n",
        "plt.plot([0, 1], [0, 1], color='navy', lw=2, linestyle='--')\n",
        "plt.xlim([0.0, 1.0])\n",
        "plt.ylim([0.0, 1.05])\n",
        "plt.xlabel('Taxa FP')\n",
        "plt.ylabel('Taxa VP')\n",
        "plt.title('Curva ROC (Receiver Operating Characteristic)')\n",
        "plt.legend(loc='lower right')\n",
        "plt.show()"
      ],
      "metadata": {
        "id": "_lfYPRQsqQ5m",
        "colab": {
          "base_uri": "https://localhost:8080/",
          "height": 472
        },
        "outputId": "fbde9b54-b8ea-452a-9031-0d33cc3c95f8"
      },
      "execution_count": null,
      "outputs": [
        {
          "output_type": "display_data",
          "data": {
            "text/plain": [
              "<Figure size 640x480 with 1 Axes>"
            ],
            "image/png": "[encoded data removed]"
          },
          "metadata": {}
        }
      ]
    },
    {
      "cell_type": "code",
      "source": [],
      "metadata": {
        "id": "cg6rS0VUZWnE"
      },
      "execution_count": null,
      "outputs": []
    }
  ],
  "metadata": {
    "accelerator": "GPU",
    "colab": {
      "provenance": [],
      "include_colab_link": true
    },
    "kernelspec": {
      "display_name": "Python 3",
      "language": "python",
      "name": "python3"
    },
    "language_info": {
      "codemirror_mode": {
        "name": "ipython",
        "version": 3
      },
      "file_extension": ".py",
      "mimetype": "text/x-python",
      "name": "python",
      "nbconvert_exporter": "python",
      "pygments_lexer": "ipython3",
      "version": "3.7.0"
    }
  },
  "nbformat": 4,
  "nbformat_minor": 0
}