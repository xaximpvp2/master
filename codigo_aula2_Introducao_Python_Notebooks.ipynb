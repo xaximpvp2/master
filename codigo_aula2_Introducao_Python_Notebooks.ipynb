{
  "cells": [
    {
      "cell_type": "markdown",
      "metadata": {
        "id": "view-in-github",
        "colab_type": "text"
      },
      "source": [
        "<a href=\"https://colab.research.google.com/github/xaximpvp2/master/blob/main/codigo_aula2_Introducao_Python_Notebooks.ipynb\" target=\"_parent\"><img src=\"https://colab.research.google.com/assets/colab-badge.svg\" alt=\"Open In Colab\"/></a>"
      ]
    },
    {
      "cell_type": "markdown",
      "id": "2567d841",
      "metadata": {
        "pycharm": {
          "name": "#%% md\n"
        },
        "id": "2567d841"
      },
      "source": [
        "# Introdução aos Python Notebooks (usando Google Colab)\n",
        "\n",
        "Bem-vindo ao Google Colab!\n"
      ]
    },
    {
      "cell_type": "markdown",
      "id": "e5d9b481",
      "metadata": {
        "pycharm": {
          "name": "#%% md\n"
        },
        "id": "e5d9b481"
      },
      "source": [
        "## Objetivo\n",
        "\n",
        "Nesse código, iremos:\n",
        "- Nos familizar com o Google Colab\n",
        "- Aprender a diferença entre células de anotação e células de código\n",
        "- Praticar comandos básicos em Python\n"
      ]
    },
    {
      "cell_type": "markdown",
      "id": "2315e967",
      "metadata": {
        "pycharm": {
          "name": "#%% md\n"
        },
        "id": "2315e967"
      },
      "source": [
        "Células de anotação são justamente essas que utilizamos até aqui."
      ]
    },
    {
      "cell_type": "markdown",
      "id": "94572f25",
      "metadata": {
        "pycharm": {
          "name": "#%% md\n"
        },
        "id": "94572f25"
      },
      "source": [
        "Por outro lado, segue abaixo um exemplo de célula de código:"
      ]
    },
    {
      "cell_type": "code",
      "execution_count": null,
      "id": "84fbaa84",
      "metadata": {
        "pycharm": {
          "name": "#%%\n"
        },
        "colab": {
          "base_uri": "https://localhost:8080/"
        },
        "id": "84fbaa84",
        "outputId": "7f839332-c226-484d-c112-f462d4b8b424"
      },
      "outputs": [
        {
          "output_type": "stream",
          "name": "stdout",
          "text": [
            "Olá mundo!\n"
          ]
        }
      ],
      "source": [
        "#Isso é uma célula de código\n",
        "print(\"Olá mundo!\")"
      ]
    },
    {
      "cell_type": "markdown",
      "id": "c14aa8a9",
      "metadata": {
        "pycharm": {
          "name": "#%% md\n"
        },
        "id": "c14aa8a9"
      },
      "source": [
        "## Python\n",
        "Você pode rodar o seu código Python em células de código.\n",
        "\n",
        "Para rodar o código, selecione a célula e\n",
        "- Segure shift e aperte 'enter'\n",
        "- Clique no botão de 'rodar' acima\n"
      ]
    },
    {
      "cell_type": "markdown",
      "id": "d5712339",
      "metadata": {
        "pycharm": {
          "name": "#%% md\n"
        },
        "id": "d5712339"
      },
      "source": [
        "### Declarações do tipo Print\n",
        "\n",
        "Declarações do tipo Print vão geralmente usar o estilo de string 'f' do Python.\n",
        "\n",
        "Tente criar o seu próprio print na célula abaixo.\n",
        "\n",
        "Tente os dois métodos de rodar a célula."
      ]
    },
    {
      "cell_type": "code",
      "execution_count": null,
      "id": "2b4789c0",
      "metadata": {
        "pycharm": {
          "name": "#%%\n"
        },
        "id": "2b4789c0",
        "outputId": "3afd59b0-b3a1-499a-b551-558f85440cfd"
      },
      "outputs": [
        {
          "name": "stdout",
          "output_type": "stream",
          "text": [
            "strings do tipo 'f' permitem que você incorpore variáveis do tipo  --> eu sou uma string < --\n"
          ]
        }
      ],
      "source": [
        "# declarações do tipo Print\n",
        "variavel = \" --> eu sou uma string < --\"\n",
        "print(f\"strings do tipo 'f' permitem que você incorpore variáveis do tipo {variavel}\")"
      ]
    },
    {
      "cell_type": "markdown",
      "id": "0323152e",
      "metadata": {
        "pycharm": {
          "name": "#%% md\n"
        },
        "id": "0323152e"
      },
      "source": [
        "### Declarando uma variável numérica"
      ]
    },
    {
      "cell_type": "code",
      "execution_count": null,
      "id": "355e98b5",
      "metadata": {
        "id": "355e98b5",
        "outputId": "bbc201c6-20a9-4f0d-b853-8d5dbd576d40"
      },
      "outputs": [
        {
          "name": "stdout",
          "output_type": "stream",
          "text": [
            "2\n"
          ]
        }
      ],
      "source": [
        "x = 2\n",
        "\n",
        "print(x)"
      ]
    },
    {
      "cell_type": "markdown",
      "id": "aa8145ad",
      "metadata": {
        "pycharm": {
          "name": "#%% md\n"
        },
        "id": "aa8145ad"
      },
      "source": [
        "# Parabéns!\n",
        "Agora você já teve seu primeiro contato com Python Notebooks. Você fez isso usando o Google Colab.\n",
        "\n",
        "Vale destacar que outros programas também são capazes de abrir arquivos com extensão .ipynb, isto é, Python Notebooks. Um exemplo de programa que faz isso é o Jupyter, também muito utilizado no contexto de programação em Python."
      ]
    },
    {
      "cell_type": "code",
      "execution_count": null,
      "id": "ba236425",
      "metadata": {
        "id": "ba236425"
      },
      "outputs": [],
      "source": []
    }
  ],
  "metadata": {
    "kernelspec": {
      "display_name": "Python 3 (ipykernel)",
      "language": "python",
      "name": "python3"
    },
    "language_info": {
      "codemirror_mode": {
        "name": "ipython",
        "version": 3
      },
      "file_extension": ".py",
      "mimetype": "text/x-python",
      "name": "python",
      "nbconvert_exporter": "python",
      "pygments_lexer": "ipython3",
      "version": "3.9.12"
    },
    "colab": {
      "provenance": [],
      "include_colab_link": true
    }
  },
  "nbformat": 4,
  "nbformat_minor": 5
}