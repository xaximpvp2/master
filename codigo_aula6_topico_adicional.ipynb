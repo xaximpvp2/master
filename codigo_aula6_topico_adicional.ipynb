{
  "cells": [
    {
      "cell_type": "markdown",
      "metadata": {
        "id": "view-in-github",
        "colab_type": "text"
      },
      "source": [
        "<a href=\"https://colab.research.google.com/github/xaximpvp2/master/blob/main/codigo_aula6_topico_adicional.ipynb\" target=\"_parent\"><img src=\"https://colab.research.google.com/assets/colab-badge.svg\" alt=\"Open In Colab\"/></a>"
      ]
    },
    {
      "cell_type": "markdown",
      "metadata": {
        "pycharm": {
          "name": "#%% md\n"
        },
        "id": "BtNFH4EkWd-M"
      },
      "source": [
        "# Python, NumPy e Vetorização\n"
      ]
    },
    {
      "cell_type": "markdown",
      "metadata": {
        "pycharm": {
          "name": "#%% md\n"
        },
        "id": "gvQXLNe0Wd-N"
      },
      "source": [
        "## Objetivo\n",
        "Com este código, você irá:\n",
        "- Aprender ou revisar características de Python, NumPy e vetorização"
      ]
    },
    {
      "cell_type": "code",
      "execution_count": null,
      "metadata": {
        "pycharm": {
          "name": "#%%\n"
        },
        "id": "WWPhCd4lWd-N"
      },
      "outputs": [],
      "source": [
        "import numpy as np    # é comum utilizarmos 'np' para abreviar 'numpy'\n",
        "import time           # Usaremos para computar tempo gasto com execução de linhas de código"
      ]
    },
    {
      "cell_type": "markdown",
      "metadata": {
        "pycharm": {
          "name": "#%% md\n"
        },
        "id": "tdbMW5zvWd-O"
      },
      "source": [
        "\n",
        "# Python e NumPy\n",
        "Python é a linguagem de programação que usaremos nesta disciplina. Ela possui um conjunto de tipos de dados numéricos e operações aritméticas. NumPy é uma biblioteca que estende as capacidades básicas do Python para adicionar um conjunto de dados mais rico, incluindo mais tipos numéricos, vetores, matrizes, etc. NumPy e Python trabalham juntos de forma bastante harmoniosa. Os operadores aritméticos do Python funcionam com os tipos de dados do NumPy e muitas funções do NumPy aceitam os tipos de dados do Python.\n"
      ]
    },
    {
      "cell_type": "markdown",
      "metadata": {
        "pycharm": {
          "name": "#%% md\n"
        },
        "id": "wZsCqDUlWd-O"
      },
      "source": [
        "# Vetores\n"
      ]
    },
    {
      "cell_type": "markdown",
      "metadata": {
        "pycharm": {
          "name": "#%% md\n"
        },
        "id": "aGPB-2V5Wd-O"
      },
      "source": [
        "\n",
        "## NumPy Arrays\n",
        "\n",
        "A estrutura básica da biblioteca NumPy é uma array indexável com n dimensões, composta por elementos de um mesmo tipo (`dtype`). Nas NumPy arrays, o termo *dimensão* não se refere ao número de elementos presentes na array, mas sim ao número de índices que ela possui. Uma array de uma dimensão (1-D array) possui um único índice, mas pode possuir múltiplos elementos. Na nossa disciplina, usaremos bastante 1-D arrays com *n* elementos para representar vetores.\n",
        "\n",
        "Observação Importante:\n",
        " - Uma 1-D array possui shape (n,). Ou seja, possui n elementos indexados de [0] até [n-1]\n",
        ""
      ]
    },
    {
      "cell_type": "markdown",
      "metadata": {
        "pycharm": {
          "name": "#%% md\n"
        },
        "id": "JFf0-11OWd-P"
      },
      "source": [
        "## Criação de Vetores usando 1-D arrays\n"
      ]
    },
    {
      "cell_type": "markdown",
      "metadata": {
        "pycharm": {
          "name": "#%% md\n"
        },
        "id": "rs1fN1LvWd-P"
      },
      "source": [
        "A criação de rotinas usando NumPy geralmente terá um primeiro parâmetro que será a 'forma' (shape) do objeto. Isso pode ser um valor único quando deseja-se criar uma 1-D array ou uma tupla (n,m,...) que especifica a forma (shape) desejada. Seguem abaixo alguns exemplos de criação de vetores como 1-D arrays:"
      ]
    },
    {
      "cell_type": "code",
      "execution_count": null,
      "metadata": {
        "pycharm": {
          "name": "#%%\n"
        },
        "id": "0HtlfEXTWd-P",
        "outputId": "92fd9fa7-03f2-4d01-d325-074ff8f220e9"
      },
      "outputs": [
        {
          "name": "stdout",
          "output_type": "stream",
          "text": [
            "np.zeros(4) :   a = [0. 0. 0. 0.], shape = (4,), tipos dos dados = float64\n",
            "np.zeros(4,) :  a = [0. 0. 0. 0.], shape = (4,), tipos dos dados = float64\n",
            "np.random.random_sample(4): a = [0.00421394 0.81488602 0.99791055 0.39977443], shape = (4,), tipos dos dados = float64\n"
          ]
        }
      ],
      "source": [
        "a = np.zeros(4);                print(f\"np.zeros(4) :   a = {a}, shape = {a.shape}, tipos dos dados = {a.dtype}\")\n",
        "a = np.zeros((4,));             print(f\"np.zeros(4,) :  a = {a}, shape = {a.shape}, tipos dos dados = {a.dtype}\")\n",
        "a = np.random.random_sample(4); print(f\"np.random.random_sample(4): a = {a}, shape = {a.shape}, tipos dos dados = {a.dtype}\")"
      ]
    },
    {
      "cell_type": "code",
      "execution_count": null,
      "metadata": {
        "pycharm": {
          "name": "#%%\n"
        },
        "id": "kV_br62OWd-P",
        "outputId": "48e6f84b-3683-40d1-c66c-297a12bb0712"
      },
      "outputs": [
        {
          "name": "stdout",
          "output_type": "stream",
          "text": [
            "np.arange(4.):     a = [0. 1. 2. 3.], shape = (4,), data type = float64\n",
            "np.random.rand(4): a = [0.02125394 0.38989233 0.56012015 0.64196711], shape = (4,), data type = float64\n"
          ]
        }
      ],
      "source": [
        "# Algumas rotinas NumPy não aceitam shape como argumentos de entrada:\n",
        "a = np.arange(4.);              print(f\"np.arange(4.):     a = {a}, shape = {a.shape}, tipos dos dados = {a.dtype}\")\n",
        "a = np.random.rand(4);          print(f\"np.random.rand(4): a = {a}, shape = {a.shape}, tipos dos dados = {a.dtype}\")"
      ]
    },
    {
      "cell_type": "markdown",
      "metadata": {
        "pycharm": {
          "name": "#%% md\n"
        },
        "id": "yuGMxHJ_Wd-Q"
      },
      "source": [
        "Também é possível especificar valores manualmente:"
      ]
    },
    {
      "cell_type": "code",
      "execution_count": null,
      "metadata": {
        "pycharm": {
          "name": "#%%\n"
        },
        "id": "kuzfBWKdWd-Q",
        "outputId": "241e6b96-9dc6-4a71-b50f-e954291f9108"
      },
      "outputs": [
        {
          "name": "stdout",
          "output_type": "stream",
          "text": [
            "np.array([5,4,3,2]):  a = [5 4 3 2],     shape = (4,), data type = int32\n",
            "np.array([5.,4,3,2]): a = [5. 4. 3. 2.], shape = (4,), data type = float64\n"
          ]
        }
      ],
      "source": [
        "a = np.array([5,4,3,2]);  print(f\"np.array([5,4,3,2]):  a = {a},     shape = {a.shape}, tipos dos dados = {a.dtype}\")\n",
        "a = np.array([5.,4,3,2]); print(f\"np.array([5.,4,3,2]): a = {a}, shape = {a.shape}, tipos dos dados = {a.dtype}\")"
      ]
    },
    {
      "cell_type": "markdown",
      "metadata": {
        "pycharm": {
          "name": "#%% md\n"
        },
        "id": "Wh3csZrLWd-Q"
      },
      "source": [
        "Note que todos os comandos usados acima criaram um vetor com uma dimensão  `a` contendo 4 elementos. `a.shape` retorna a quantidade de elementos por dimensão. Ou seja, o resultado a.shape = `(4,)` indica uma 1-D array com 4 elementos.  "
      ]
    },
    {
      "cell_type": "markdown",
      "metadata": {
        "pycharm": {
          "name": "#%% md\n"
        },
        "id": "5ELs9Z8fWd-Q"
      },
      "source": [
        "\n",
        "## Operações em vetores\n",
        "\n",
        "\n",
        "### Acessando um elemento de uma array 1-D usando sua posição (Indexação)\n"
      ]
    },
    {
      "cell_type": "code",
      "execution_count": null,
      "metadata": {
        "pycharm": {
          "name": "#%%\n"
        },
        "id": "oKyiMxipWd-Q",
        "outputId": "84d2f643-ee26-4fa1-c69a-b85550135c25"
      },
      "outputs": [
        {
          "name": "stdout",
          "output_type": "stream",
          "text": [
            "[0 1 2 3 4 5 6 7 8 9]\n",
            "a[2].shape: () a[2]  = 2, Acessar um elemento retorna um escalar\n",
            "a[-1] = 9\n",
            "A mensagem de erro produzida é:\n",
            "index 10 is out of bounds for axis 0 with size 10\n"
          ]
        }
      ],
      "source": [
        "a = np.arange(10)\n",
        "print(a)\n",
        "\n",
        "# Acessando o elemento na terceira posição\n",
        "print(f\"a[2].shape: {a[2].shape} a[2]  = {a[2]}, Acessar um elemento retorna um escalar\")\n",
        "\n",
        "# Acessando o último elemento: índices negativos contam a partir do fim\n",
        "print(f\"a[-1] = {a[-1]}\")\n",
        "\n",
        "# Índices precisam estar dentro do alcance do vetor. Caso contrário, será produzido um erro:\n",
        "try:\n",
        "    c = a[10]\n",
        "except Exception as e:\n",
        "    print(\"A mensagem de erro produzida é:\")\n",
        "    print(e)"
      ]
    },
    {
      "cell_type": "markdown",
      "metadata": {
        "pycharm": {
          "name": "#%% md\n"
        },
        "id": "w2v_dmH5Wd-Q"
      },
      "source": [
        "\n",
        "### Subconjuntos de elementos de uma array 1-D (Particionamento)\n",
        "O Particionamento cria uma array de índices usando três valores: (`início:fim:passo`). Veja os exemplos abaixo:"
      ]
    },
    {
      "cell_type": "code",
      "execution_count": null,
      "metadata": {
        "pycharm": {
          "name": "#%%\n"
        },
        "id": "6YxFBATOWd-Q",
        "outputId": "696f7695-0041-436f-a213-37d39485e124"
      },
      "outputs": [
        {
          "name": "stdout",
          "output_type": "stream",
          "text": [
            "a        = [0 1 2 3 4 5 6 7 8 9]\n",
            "a[2:7:1] =  [2 3 4 5 6]\n",
            "a[2:7:2] =  [2 4 6]\n",
            "a[3:]    =  [3 4 5 6 7 8 9]\n",
            "a[:3]    =  [0 1 2]\n",
            "a[:]     =  [0 1 2 3 4 5 6 7 8 9]\n"
          ]
        }
      ],
      "source": [
        "\n",
        "a = np.arange(10)\n",
        "print(f\"a        = {a}\")\n",
        "\n",
        "c = a[2:7:1];     print(\"a[2:7:1] = \", c)\n",
        "\n",
        "c = a[2:7:2];     print(\"a[2:7:2] = \", c)\n",
        "\n",
        "c = a[3:];        print(\"a[3:]    = \", c)\n",
        "\n",
        "c = a[:3];        print(\"a[:3]    = \", c)\n",
        "\n",
        "c = a[:];         print(\"a[:]     = \", c)"
      ]
    },
    {
      "cell_type": "markdown",
      "metadata": {
        "pycharm": {
          "name": "#%% md\n"
        },
        "id": "Q2WbmQ4JWd-Q"
      },
      "source": [
        "\n",
        "### Operações com um único vetor\n",
        "Existe uma quantidade grande de operações que podem ser realizadas usando um único vetor"
      ]
    },
    {
      "cell_type": "code",
      "execution_count": null,
      "metadata": {
        "pycharm": {
          "name": "#%%\n"
        },
        "id": "iElBWoBWWd-R",
        "outputId": "0fd457d0-4f3e-4398-ffcd-69b988ac4f51"
      },
      "outputs": [
        {
          "name": "stdout",
          "output_type": "stream",
          "text": [
            "a             : [1 2 3 4]\n",
            "b = -a        : [-1 -2 -3 -4]\n",
            "b = np.sum(a) : 10\n",
            "b = np.mean(a): 2.5\n",
            "b = a**2      : [ 1  4  9 16]\n"
          ]
        }
      ],
      "source": [
        "a = np.array([1,2,3,4])\n",
        "print(f\"a             : {a}\")\n",
        "\n",
        "# Elementos negativos de a\n",
        "b = -a\n",
        "print(f\"b = -a        : {b}\")\n",
        "\n",
        "# retorna um escalar com a soma de todos os elementos de a\n",
        "b = np.sum(a)\n",
        "print(f\"b = np.sum(a) : {b}\")\n",
        "\n",
        "b = np.mean(a)\n",
        "print(f\"b = np.mean(a): {b}\")\n",
        "\n",
        "b = a**2\n",
        "print(f\"b = a**2      : {b}\")"
      ]
    },
    {
      "cell_type": "markdown",
      "metadata": {
        "pycharm": {
          "name": "#%% md\n"
        },
        "id": "pYUqEa89Wd-R"
      },
      "source": [
        "\n",
        "### Operações elemento a elemento"
      ]
    },
    {
      "cell_type": "code",
      "execution_count": null,
      "metadata": {
        "pycharm": {
          "name": "#%%\n"
        },
        "id": "ONGWWaSOWd-R",
        "outputId": "a4c6246b-d639-4f10-d631-f52afea66709"
      },
      "outputs": [
        {
          "name": "stdout",
          "output_type": "stream",
          "text": [
            "Resultado: [0 0 6 8]\n"
          ]
        }
      ],
      "source": [
        "a = np.array([ 1, 2, 3, 4])\n",
        "b = np.array([-1,-2, 3, 4])\n",
        "print(f\"Resultado: {a + b}\")"
      ]
    },
    {
      "cell_type": "markdown",
      "metadata": {
        "pycharm": {
          "name": "#%% md\n"
        },
        "id": "9S1gxvX_Wd-R"
      },
      "source": [
        "\n",
        "### Mutiplicação de vetor por escalar"
      ]
    },
    {
      "cell_type": "code",
      "execution_count": null,
      "metadata": {
        "pycharm": {
          "name": "#%%\n"
        },
        "id": "hfxoDnelWd-R",
        "outputId": "0fc7459d-a013-45a2-d103-2d9f9fcec9e0"
      },
      "outputs": [
        {
          "name": "stdout",
          "output_type": "stream",
          "text": [
            "b = 5 * a : [ 5 10 15 20]\n"
          ]
        }
      ],
      "source": [
        "a = np.array([1, 2, 3, 4])\n",
        "\n",
        "b = 5 * a\n",
        "print(f\"b = 5 * a : {b}\")"
      ]
    },
    {
      "cell_type": "markdown",
      "metadata": {
        "pycharm": {
          "name": "#%% md\n"
        },
        "id": "bD3ocZ4IWd-R"
      },
      "source": [
        "\n",
        "### Produto escalar\n"
      ]
    },
    {
      "cell_type": "markdown",
      "metadata": {
        "pycharm": {
          "name": "#%% md\n"
        },
        "id": "LWdnwtHPWd-R"
      },
      "source": [
        "**Usando um loop for**, vamos primeiramente implementar nossa própria versão do produto escalar. Nossa função irá retornar o produto escalar entre os vetores $a$ e $b$:\n",
        "$$ x = \\sum_{i=0}^{n-1} a_i b_i $$"
      ]
    },
    {
      "cell_type": "code",
      "execution_count": null,
      "metadata": {
        "pycharm": {
          "name": "#%%\n"
        },
        "id": "gNrFK3BqWd-R"
      },
      "outputs": [],
      "source": [
        "def meu_produto_escalar(a, b):\n",
        "    \"\"\"\n",
        "   Calcula o produto escalar entre dois vetores\n",
        "\n",
        "    Args:\n",
        "      a (ndarray (n,)):  vetor de entrada\n",
        "      b (ndarray (n,)):  vetor de entrada com a mesma dimensão que a\n",
        "\n",
        "    Returns:\n",
        "      x (escalar):\n",
        "    \"\"\"\n",
        "    x=0\n",
        "    for i in range(a.shape[0]):\n",
        "        x = x + a[i] * b[i]\n",
        "    return x"
      ]
    },
    {
      "cell_type": "code",
      "execution_count": null,
      "metadata": {
        "pycharm": {
          "name": "#%%\n"
        },
        "id": "IRpxX3srWd-S",
        "outputId": "dbf292ae-4f16-4fa8-8d98-dcf4564489ca"
      },
      "outputs": [
        {
          "name": "stdout",
          "output_type": "stream",
          "text": [
            "meu_produto_escalar(a, b) = 24\n"
          ]
        }
      ],
      "source": [
        "# testando a função implementada:\n",
        "a = np.array([1, 2, 3, 4])\n",
        "b = np.array([-1, 4, 3, 2])\n",
        "print(f\"meu_produto_escalar(a, b) = {meu_produto_escalar(a, b)}\")"
      ]
    },
    {
      "cell_type": "markdown",
      "metadata": {
        "pycharm": {
          "name": "#%% md\n"
        },
        "id": "DsV62ZS7Wd-S"
      },
      "source": [
        "Vamos agora testar as mesmas operações usando `np.dot`.  "
      ]
    },
    {
      "cell_type": "code",
      "execution_count": null,
      "metadata": {
        "pycharm": {
          "name": "#%%\n"
        },
        "id": "ny8VZ2UEWd-S",
        "outputId": "9efdb7c0-934f-43d1-8901-b2cbfaf14bd3"
      },
      "outputs": [
        {
          "name": "stdout",
          "output_type": "stream",
          "text": [
            "NumPy 1-D np.dot(a, b) = 24, np.dot(a, b).shape = () \n",
            "NumPy 1-D np.dot(b, a) = 24, np.dot(a, b).shape = () \n"
          ]
        }
      ],
      "source": [
        "a = np.array([1, 2, 3, 4])\n",
        "b = np.array([-1, 4, 3, 2])\n",
        "c = np.dot(a, b)\n",
        "print(f\"NumPy 1-D np.dot(a, b) = {c}, np.dot(a, b).shape = {c.shape} \")\n",
        "c = np.dot(b, a)\n",
        "print(f\"NumPy 1-D np.dot(b, a) = {c}, np.dot(a, b).shape = {c.shape} \")\n"
      ]
    },
    {
      "cell_type": "markdown",
      "metadata": {
        "pycharm": {
          "name": "#%% md\n"
        },
        "id": "NIC3jyamWd-S"
      },
      "source": [
        "\n",
        "### A necessidade de cálculos rápidos: Vetores versus loop for\n",
        "Nós utilizamos a biblioteca NumPy pois ela acelera os nossos cálculos. Vamos demonstrar isso agora."
      ]
    },
    {
      "cell_type": "code",
      "execution_count": null,
      "metadata": {
        "pycharm": {
          "name": "#%%\n"
        },
        "id": "tCVzbJ53Wd-S",
        "outputId": "fc6f092a-0b17-4512-c8fd-a41ba56d30d2"
      },
      "outputs": [
        {
          "name": "stdout",
          "output_type": "stream",
          "text": [
            "np.dot(a, b) =  2501072.5817\n",
            "duração usando a versão Vetorizada: 8.9753 ms \n",
            "meu_produto_escalar(a, b) =  2501072.5817\n",
            "duração usando a versão com loop for: 4551.3909 ms \n"
          ]
        }
      ],
      "source": [
        "np.random.seed(1)\n",
        "a = np.random.rand(10000000)  # arrays bastante grandes\n",
        "b = np.random.rand(10000000)\n",
        "\n",
        "tic = time.time()  # captura tempo de início\n",
        "c = np.dot(a, b)\n",
        "toc = time.time()  # captura tempo de fim\n",
        "\n",
        "print(f\"np.dot(a, b) =  {c:.4f}\")\n",
        "print(f\"duração usando a versão Vetorizada: {1000*(toc-tic):.4f} ms \")\n",
        "\n",
        "tic = time.time()  # capture start time\n",
        "c = meu_produto_escalar(a,b)\n",
        "toc = time.time()  # capture end time\n",
        "\n",
        "print(f\"meu_produto_escalar(a, b) =  {c:.4f}\")\n",
        "print(f\"duração usando a versão com loop for: {1000*(toc-tic):.4f} ms \")\n",
        "\n",
        "del(a);del(b)  #remove as arrays da memória"
      ]
    },
    {
      "cell_type": "markdown",
      "metadata": {
        "pycharm": {
          "name": "#%% md\n"
        },
        "id": "OXHeZ9UrWd-S"
      },
      "source": [
        "Como pode ser percebido, a vetorização provê um processamento mais rápido das operações. Isso porquê NumPy faz um uso mais eficiente de paralelismo de hardware. Isso é fundamental no Aprendizado de Máquina, onde conjuntos de dados são geralmente grandes."
      ]
    },
    {
      "cell_type": "markdown",
      "metadata": {
        "pycharm": {
          "name": "#%% md\n"
        },
        "id": "WZf5-uIaWd-S"
      },
      "source": [
        "\n",
        "# Matrizes\n"
      ]
    },
    {
      "cell_type": "markdown",
      "metadata": {
        "pycharm": {
          "name": "#%% md\n"
        },
        "id": "MAAbyxy8Wd-S"
      },
      "source": [
        "## Resumo\n",
        "\n",
        "Matrizes são arrays de duas dimensões, ou seja, 2-D arrays. Os elementos de uma matriz são todos do mesmo tipo."
      ]
    },
    {
      "cell_type": "markdown",
      "metadata": {
        "pycharm": {
          "name": "#%% md\n"
        },
        "id": "q93K8YeFWd-S"
      },
      "source": [
        "## NumPy arrays\n",
        "\n",
        "Matrizes têm dois índices dimensionais [m,n].\n",
        "\n",
        "Em alguns casos, usaremos matrizes 2-D para armazenar nossos dados de treinamento. Os dados de treinamento são formados por $m$ amostras de treinamento, cada uma com $n$ características, criando uma array (m,n)."
      ]
    },
    {
      "cell_type": "markdown",
      "metadata": {
        "pycharm": {
          "name": "#%% md\n"
        },
        "id": "ZLEcUdpjWd-T"
      },
      "source": [
        "## Criação de Matrizes\n"
      ]
    },
    {
      "cell_type": "code",
      "execution_count": null,
      "metadata": {
        "pycharm": {
          "name": "#%%\n"
        },
        "id": "tD8eCFxoWd-T",
        "outputId": "cce5d889-c968-42a6-a847-03ff50311a26"
      },
      "outputs": [
        {
          "name": "stdout",
          "output_type": "stream",
          "text": [
            "shape = (1, 5), a = [[0. 0. 0. 0. 0.]]\n",
            "shape = (2, 1), a = [[0.]\n",
            " [0.]]\n",
            "shape = (1, 1), a = [[0.44236513]]\n"
          ]
        }
      ],
      "source": [
        "a = np.zeros((1, 5))\n",
        "print(f\"shape = {a.shape}, a = {a}\")\n",
        "\n",
        "a = np.zeros((2, 1))\n",
        "print(f\"shape = {a.shape}, a = {a}\")\n",
        "\n",
        "a = np.random.random_sample((1, 1))\n",
        "print(f\"shape = {a.shape}, a = {a}\")"
      ]
    },
    {
      "cell_type": "markdown",
      "metadata": {
        "pycharm": {
          "name": "#%% md\n"
        },
        "id": "6V1ipvdwWd-T"
      },
      "source": [
        "Também é possível preencher os valores manualmente"
      ]
    },
    {
      "cell_type": "code",
      "execution_count": null,
      "metadata": {
        "pycharm": {
          "name": "#%%\n"
        },
        "id": "lzlrVxPTWd-T",
        "outputId": "ba478fad-f42a-448c-f569-5967840ec6b9"
      },
      "outputs": [
        {
          "name": "stdout",
          "output_type": "stream",
          "text": [
            " shape = (3, 1), np.array: a = [[5]\n",
            " [4]\n",
            " [3]]\n",
            " shape = (3, 1), np.array: a = [[5]\n",
            " [4]\n",
            " [3]]\n"
          ]
        }
      ],
      "source": [
        "a = np.array([[5], [4], [3]]);   print(f\" shape = {a.shape}, np.array: a = {a}\")\n",
        "a = np.array([[5],\n",
        "              [4],\n",
        "              [3]]);\n",
        "print(f\" shape = {a.shape}, np.array: a = {a}\")"
      ]
    },
    {
      "cell_type": "markdown",
      "metadata": {
        "pycharm": {
          "name": "#%% md\n"
        },
        "id": "S7nfyLOiWd-U"
      },
      "source": [
        "## Operações usando Matrizes"
      ]
    },
    {
      "cell_type": "markdown",
      "metadata": {
        "pycharm": {
          "name": "#%% md\n"
        },
        "id": "hx69-w_2Wd-U"
      },
      "source": [
        "### Indexação\n"
      ]
    },
    {
      "cell_type": "markdown",
      "metadata": {
        "pycharm": {
          "name": "#%% md\n"
        },
        "id": "-lMvWeJoWd-U"
      },
      "source": [
        "Matrizes possuem um segundo índice dimensional. Os dois índices descrevem [linhas, colunas]. O acesso a elementos de uma matriz pode retornar um elemento ou uma linha/coluna, conforme exemplos abaixo."
      ]
    },
    {
      "cell_type": "code",
      "execution_count": null,
      "metadata": {
        "pycharm": {
          "name": "#%%\n"
        },
        "id": "ybvIjGANWd-U",
        "outputId": "11df42ef-a06a-4094-b4b3-b45cb23c32b4"
      },
      "outputs": [
        {
          "name": "stdout",
          "output_type": "stream",
          "text": [
            "\n",
            "a.shape: (3, 2), \n",
            "a= [[0 1]\n",
            " [2 3]\n",
            " [4 5]]\n",
            "\n",
            "a.shape: (3, 2), \n",
            "a= [[0 1]\n",
            " [2 3]\n",
            " [4 5]]\n",
            "\n",
            "a.shape: (3, 2), \n",
            "a= [[0 1]\n",
            " [2 3]\n",
            " [4 5]]\n",
            "\n",
            "a[2,0].shape:   (), a[2,0] = 4,     type(a[2,0]) = <class 'numpy.int32'> Acessar um elemento retorna um escalar!\n",
            "\n",
            "a[2].shape:   (2,), a[2]   = [4 5], type(a[2])   = <class 'numpy.ndarray'>\n"
          ]
        }
      ],
      "source": [
        "a = np.arange(6).reshape(3, 2)   # usar reshape é uma forma conveniente para criar matrizes.\n",
        "print(f\"\\na.shape: {a.shape}, \\na= {a}\")\n",
        "\n",
        "a = np.arange(6).reshape(-1, 2)   # O '-1' significa que o valor nessa dimensão será deduzido automaticamente.\n",
        "print(f\"\\na.shape: {a.shape}, \\na= {a}\")\n",
        "\n",
        "a = np.arange(6).reshape(3, -1)   # O '-1' significa que o valor nessa dimensão será deduzido automaticamente.\n",
        "print(f\"\\na.shape: {a.shape}, \\na= {a}\")\n",
        "\n",
        "# acessando um elemento da matriz\n",
        "print(f\"\\na[2,0].shape:   {a[2, 0].shape}, a[2,0] = {a[2, 0]},     type(a[2,0]) = {type(a[2, 0])} Acessar um elemento retorna um escalar!\\n\")\n",
        "\n",
        "# acessando uma linha da matriz\n",
        "print(f\"a[2].shape:   {a[2].shape}, a[2]   = {a[2]}, type(a[2])   = {type(a[2])}\")"
      ]
    },
    {
      "cell_type": "markdown",
      "metadata": {
        "pycharm": {
          "name": "#%% md\n"
        },
        "id": "fGUxc7_qWd-U"
      },
      "source": [
        "### Subconjuntos de elementos de uma array 2-D (Particionamento)\n",
        "\n",
        "O Particionamento cria uma array de índices usando três valores: (`início:fim:passo`). Veja os exemplos abaixo:"
      ]
    },
    {
      "cell_type": "code",
      "execution_count": null,
      "metadata": {
        "pycharm": {
          "name": "#%%\n"
        },
        "id": "Zqox8QG1Wd-U",
        "outputId": "daaae6db-78f0-4643-d886-64e755fe087f"
      },
      "outputs": [
        {
          "name": "stdout",
          "output_type": "stream",
          "text": [
            "a = \n",
            "[[ 0  1  2  3  4  5  6  7  8  9]\n",
            " [10 11 12 13 14 15 16 17 18 19]]\n",
            "a[0, 2:7:1] =  [2 3 4 5 6] ,  a[0, 2:7:1].shape = (5,) a 1-D array\n",
            "a[:, 2:7:1] = \n",
            " [[ 2  3  4  5  6]\n",
            " [12 13 14 15 16]] ,  a[:, 2:7:1].shape = (2, 5) a 2-D array\n",
            "a[:,:] = \n",
            " [[ 0  1  2  3  4  5  6  7  8  9]\n",
            " [10 11 12 13 14 15 16 17 18 19]] ,  a[:,:].shape = (2, 10)\n",
            "a[1,:] =  [10 11 12 13 14 15 16 17 18 19] ,  a[1,:].shape = (10,) a 1-D array\n",
            "a[1]   =  [10 11 12 13 14 15 16 17 18 19] ,  a[1].shape   = (10,) a 1-D array\n"
          ]
        }
      ],
      "source": [
        "a = np.arange(20).reshape(-1, 10)\n",
        "print(f\"a = \\n{a}\")\n",
        "\n",
        "# Acessando 5 elementos consecutivos (início:fim:passo)\n",
        "print(\"a[0, 2:7:1] = \", a[0, 2:7:1], \",  a[0, 2:7:1].shape =\", a[0, 2:7:1].shape, \"uma array 1-D\")\n",
        "\n",
        "# Acessando 5 elementos consecutivos (início:fim:passo) em todas as linhas\n",
        "print(\"a[:, 2:7:1] = \\n\", a[:, 2:7:1], \",  a[:, 2:7:1].shape =\", a[:, 2:7:1].shape, \"uma array 2-D\")\n",
        "\n",
        "# Acessando todos os elementos\n",
        "print(\"a[:,:] = \\n\", a[:,:], \",  a[:,:].shape =\", a[:,:].shape)\n",
        "\n",
        "# Acessando todos os elementos da segunda linha\n",
        "print(\"a[1,:] = \", a[1,:], \",  a[1,:].shape =\", a[1,:].shape, \"uma array 1-D\")\n",
        "# O mesmo que\n",
        "print(\"a[1]   = \", a[1],   \",  a[1].shape   =\", a[1].shape, \"uma array 1-D\")\n"
      ]
    },
    {
      "cell_type": "markdown",
      "metadata": {
        "pycharm": {
          "name": "#%% md\n"
        },
        "id": "GuDzOOilWd-U"
      },
      "source": [
        "## Parabéns\n",
        "Com este código você aprendeu ou revisou características de Python e NumPy"
      ]
    },
    {
      "cell_type": "markdown",
      "metadata": {
        "pycharm": {
          "name": "#%% md\n"
        },
        "id": "3qcEN3g2Wd-U"
      },
      "source": [
        "### Algumas referências úteis adicionais:\n",
        "- Documentação da biblioteca NumPy: [NumPy.org](https://NumPy.org/doc/stable/)\n",
        "- Material avançado sobre broadcasting: [NumPy Broadcasting](https://NumPy.org/doc/stable/user/basics.broadcasting.html)\n"
      ]
    }
  ],
  "metadata": {
    "dl_toc_settings": {
      "rndtag": "40015"
    },
    "kernelspec": {
      "display_name": "Python 3 (ipykernel)",
      "language": "python",
      "name": "python3"
    },
    "language_info": {
      "codemirror_mode": {
        "name": "ipython",
        "version": 3
      },
      "file_extension": ".py",
      "mimetype": "text/x-python",
      "name": "python",
      "nbconvert_exporter": "python",
      "pygments_lexer": "ipython3",
      "version": "3.9.12"
    },
    "toc-autonumbering": false,
    "colab": {
      "provenance": [],
      "include_colab_link": true
    }
  },
  "nbformat": 4,
  "nbformat_minor": 0
}