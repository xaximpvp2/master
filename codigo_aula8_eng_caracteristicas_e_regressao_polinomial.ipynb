{
  "cells": [
    {
      "cell_type": "markdown",
      "metadata": {
        "id": "view-in-github",
        "colab_type": "text"
      },
      "source": [
        "<a href=\"https://colab.research.google.com/github/xaximpvp2/master/blob/main/codigo_aula8_eng_caracteristicas_e_regressao_polinomial.ipynb\" target=\"_parent\"><img src=\"https://colab.research.google.com/assets/colab-badge.svg\" alt=\"Open In Colab\"/></a>"
      ]
    },
    {
      "cell_type": "markdown",
      "id": "35e0abc8",
      "metadata": {
        "pycharm": {
          "name": "#%% md\n"
        },
        "id": "35e0abc8"
      },
      "source": [
        "# Engenharia de Características e Regressão Polinomial\n"
      ]
    },
    {
      "cell_type": "markdown",
      "id": "557fe8f6",
      "metadata": {
        "pycharm": {
          "name": "#%% md\n"
        },
        "id": "557fe8f6"
      },
      "source": [
        "## Objetivos\n",
        "Com este código você irá:\n",
        "- explorar a Engenharia de Características e a regressão polinomial. Isso permite o uso de regressão linear para ajustar funções mais complexas (funções polinomiais, por exemplo).\n"
      ]
    },
    {
      "cell_type": "code",
      "execution_count": null,
      "id": "be596fa8",
      "metadata": {
        "pycharm": {
          "name": "#%%\n"
        },
        "id": "be596fa8"
      },
      "outputs": [],
      "source": [
        "import math\n",
        "import numpy as np\n",
        "import matplotlib.pyplot as plt\n",
        "np.set_printoptions(precision=3)  #Reduz precisão ao dar print das arrays numpy"
      ]
    },
    {
      "cell_type": "markdown",
      "id": "8143a5fe",
      "metadata": {
        "pycharm": {
          "name": "#%% md\n"
        },
        "id": "8143a5fe"
      },
      "source": [
        "## Engenharia de Características e Regressão Polinomial: Uma revisão\n",
        "\n",
        "A regressão linear provê uma forma de construção de modelos do tipo:\n",
        "\n",
        "$$f_{\\mathbf{w},b} = w_0x_0 + w_1x_1+ ... + w_{n-1}x_{n-1} + b \\tag{1}$$\n",
        "\n",
        "O que acontece se suas características (seus dados) são não lineares ou combinações de múltiplas características? Por exemplo, pode ser que você descubra que o preço das casas é não linear com a área, penalizando casas muito pequenas ou casas muito grandes. Como construir um modelo que se ajusta a esse comportamento?"
      ]
    },
    {
      "cell_type": "markdown",
      "id": "87451be8",
      "metadata": {
        "pycharm": {
          "name": "#%% md\n"
        },
        "id": "87451be8"
      },
      "source": [
        "\n",
        "## Características Polinomiais\n",
        "\n",
        "Nós estamos considerando aqui um cenário onde os dados têm um comportamento não linear. Vamos começar com uma função quadrática bastante simples: $y = 1+x^2$.\n",
        "\n",
        "Abaixo nós criamos os dados:"
      ]
    },
    {
      "cell_type": "code",
      "execution_count": null,
      "id": "31e7ac13",
      "metadata": {
        "id": "31e7ac13"
      },
      "outputs": [],
      "source": [
        "# Criando os dados\n",
        "x = np.arange(0, 20, 1) # resultado tem shape (20,)\n",
        "y = 1 + x**2\n",
        "X = x.reshape(-1,1) # resultado tem shape (20,1)"
      ]
    },
    {
      "cell_type": "markdown",
      "id": "f98d6c5b",
      "metadata": {
        "pycharm": {
          "name": "#%% md\n"
        },
        "id": "f98d6c5b"
      },
      "source": [
        "\n",
        "### Definindo funções já usadas em códigos anteriores\n",
        "\n",
        "Na célula abaixo, nós definimos as funções que implementam o Método do Gradiente e mais algumas funções adicionais, como a função *normalizacao_zscore* (todas já foram vistas em atividades de programação anteriores)."
      ]
    },
    {
      "cell_type": "code",
      "execution_count": null,
      "id": "48ed0ec9",
      "metadata": {
        "id": "48ed0ec9"
      },
      "outputs": [],
      "source": [
        "def calcula_custo(X, y, w, b):\n",
        "    \"\"\"\n",
        "    Calcula o custo\n",
        "    Args:\n",
        "      X (ndarray (m,n)): Dados, contendo m exemplos com n características\n",
        "      y (ndarray (m,)) : valores alvo\n",
        "      w (ndarray (n,)) : parâmetros w do modelo\n",
        "      b (scalar)       : parâmetro b do modelo\n",
        "\n",
        "    Retorna:\n",
        "      custo (escalar): custo\n",
        "    \"\"\"\n",
        "    m     = X.shape[0]\n",
        "    custo = 0.0\n",
        "    for i in range(m):\n",
        "        f_wb_i = np.dot(X[i], w) + b           #(n,)(n,) = escalar (see np.dot)\n",
        "        custo = custo + (f_wb_i - y[i])**2     # escalar\n",
        "    custo = custo / (2 * m)                    # escalar\n",
        "    return custo\n",
        "\n",
        "def calcula_gradiente(X, y, w, b):\n",
        "    \"\"\"\n",
        "    Calcula Gradiente para Regressão Linear\n",
        "    Args:\n",
        "      X (ndarray (m,n)): Dados, contendo m exemplos com n características\n",
        "      y (ndarray (m,)) : valores alvo\n",
        "      w (ndarray (n,)) : parâmetros w do modelo\n",
        "      b (scalar)       : parâmetro b do modelo\n",
        "\n",
        "    Retorna:\n",
        "      dj_dw (ndarray (n,)): O gradiente da função custo com relação aos parâmetros w.\n",
        "      dj_db (escalar):      O gradiente da função custo com relação ao parâmetro b.\n",
        "    \"\"\"\n",
        "    m,n = X.shape           #(número de exemplos, número de características)\n",
        "    dj_dw = np.zeros((n,))\n",
        "    dj_db = 0.\n",
        "\n",
        "    for i in range(m):\n",
        "        erro = (np.dot(X[i], w) + b) - y[i]\n",
        "        for j in range(n):\n",
        "            dj_dw[j] = dj_dw[j] + erro * X[i, j]\n",
        "        dj_db = dj_db + erro\n",
        "    dj_dw = dj_dw / m\n",
        "    dj_db = dj_db / m\n",
        "\n",
        "    return dj_db, dj_dw\n",
        "\n",
        "def metodo_do_gradiente(X, y, w_in, b_in, calcula_custo, calcula_gradiente, alpha, num_iters):\n",
        "    \"\"\"\n",
        "    Performa Método do Gradiente para aprender theta. Atualiza theta ao longo de\n",
        "    num_iters passos de iteração usando uma taxa de aprendizado alpha\n",
        "\n",
        "    Args:\n",
        "      X (ndarray (m,n))   : Dados, contendo m exemplos com n características\n",
        "      y (ndarray (m,))    : valores alvo\n",
        "      w_in (ndarray (n,)) : valores iniciais dos parâmetros w do modelo\n",
        "      b_in (escalar)      : valor inicial do parâmetro b do modelo\n",
        "      calcula_custo       : função que calcula o custo\n",
        "      calcula_gradiente   : função que calcula o gradiente\n",
        "      alpha (float)       : taxa de aprendizado\n",
        "      num_iters (int)     : Número de iterações para o método do gradiente\n",
        "\n",
        "    Retorna:\n",
        "      w (ndarray (n,)) : Valores atualizados para os parâmetros w\n",
        "      b (scalar)       : Valores atualizado para o parâmetro b\n",
        "      \"\"\"\n",
        "\n",
        "    # Valores históricos\n",
        "    J_history = []\n",
        "    w = w_in\n",
        "    b = b_in\n",
        "\n",
        "    for i in range(num_iters):\n",
        "\n",
        "        # Calcula o gradiente\n",
        "        dj_db,dj_dw = calcula_gradiente(X, y, w, b)\n",
        "\n",
        "        # Atualiza os parâmetros\n",
        "        w = w - alpha * dj_dw\n",
        "        b = b - alpha * dj_db\n",
        "\n",
        "        # Salva o custo\n",
        "        if i<100000:\n",
        "            J_history.append( calcula_custo(X, y, w, b))\n",
        "\n",
        "        # Faz print de tempos em tempos\n",
        "        if i% math.ceil(num_iters / 10) == 0:\n",
        "            print(f\"Iteração {i:4d}: Custo {J_history[-1]:8.2f}   \")\n",
        "\n",
        "    return w, b, J_history # retorna valores finais e históricos\n",
        "\n",
        "def normalizacao_zscore(X):\n",
        "    \"\"\"\n",
        "    Normaliza todas as colunas em X\n",
        "\n",
        "    Argumentos:\n",
        "      X (ndarray (m,n))     : Dados de entrada, m amostras (linhas), n características (colunas)\n",
        "\n",
        "    Retorna:\n",
        "      X_norm (ndarray (m,n)): Matriz X normalizada\n",
        "      mu (ndarray (n,))     : média de cada característica\n",
        "      sigma (ndarray (n,))  : desvio padrão de cada característica\n",
        "    \"\"\"\n",
        "    # Encontrando a média de cada característica/coluna\n",
        "    mu     = np.mean(X, axis=0)                 # mu terá shape (n,) ---> axis=0 indica que a operação será feita ao longo das linhas, para cada coluna\n",
        "    # Encontrando o desvio padrão de cada característica/coluna\n",
        "    sigma  = np.std(X, axis=0)                  # sigma terá shape (n,)\n",
        "    # O comando abaixo subtrai a média mu de cada coluna para cada exemplo, e divide pelo desvio correspondente\n",
        "    X_norm = (X - mu) / sigma\n",
        "\n",
        "    return (X_norm, mu, sigma)\n"
      ]
    },
    {
      "cell_type": "markdown",
      "id": "a3d5584e",
      "metadata": {
        "pycharm": {
          "name": "#%% md\n"
        },
        "id": "a3d5584e"
      },
      "source": [
        "Abaixo estimamos uma reta $f_{w,b} = wx+b$ para esses dados:"
      ]
    },
    {
      "cell_type": "code",
      "execution_count": null,
      "id": "ba534bb5",
      "metadata": {
        "colab": {
          "base_uri": "https://localhost:8080/",
          "height": 663
        },
        "id": "ba534bb5",
        "outputId": "7afc0fb1-1971-4f32-e2c1-424cc5b31423"
      },
      "outputs": [
        {
          "output_type": "stream",
          "name": "stdout",
          "text": [
            "Iteração    0: Custo  1657.56   \n",
            "Iteração  200: Custo   588.48   \n",
            "Iteração  400: Custo   490.10   \n",
            "Iteração  600: Custo   456.43   \n",
            "Iteração  800: Custo   444.90   \n",
            "Iteração 1000: Custo   440.95   \n",
            "Iteração 1200: Custo   439.60   \n",
            "Iteração 1400: Custo   439.14   \n",
            "Iteração 1600: Custo   438.98   \n",
            "Iteração 1800: Custo   438.93   \n",
            "b,w encontrados pelo método do gradiente: -55.73,[18.979] \n"
          ]
        },
        {
          "output_type": "display_data",
          "data": {
            "text/plain": [
              "<Figure size 640x480 with 1 Axes>"
            ],
            "image/png": "[encoded data removed]"
          },
          "metadata": {}
        }
      ],
      "source": [
        "# inicializando parâmetros\n",
        "w_inicial = np.array([0.0])\n",
        "b_inicial = 0\n",
        "# parâmetros para rodar o Método do Gradiente:\n",
        "num_iters  = 2000\n",
        "alpha      = 0.01\n",
        "# Rodando o Método do gradiente\n",
        "w_final, b_final, J_hist = metodo_do_gradiente(X, y, w_inicial, b_inicial,\n",
        "                                                    calcula_custo, calcula_gradiente,\n",
        "                                                    alpha, num_iters)\n",
        "print(f\"b,w encontrados pelo método do gradiente: {b_final:0.2f},{w_final} \")\n",
        "\n",
        "# Plotando os resultados\n",
        "plt.scatter(x, y, marker='x', c='r', label=\"Value Verdadeiro\"); plt.title(\"Sem Engenharia de Características\")\n",
        "plt.plot(x,X@w_final + b_final, label=\"Valor estimado\");  plt.xlabel(\"X\"); plt.ylabel(\"y\"); plt.legend(); plt.show()"
      ]
    },
    {
      "cell_type": "markdown",
      "id": "21ed5147",
      "metadata": {
        "pycharm": {
          "name": "#%% md\n"
        },
        "id": "21ed5147"
      },
      "source": [
        "Bem, como esperado, não obtivemos uma aproximação muito boa. O que precisamos é de algo como $y= w_0x_0^2 + b$, ou seja, de uma **característica polinomial** no nosso modelo.\n",
        "\n",
        "Para obter isso, você pode modificar os *dados de entrada* para $criar$ as características desejadas. Abaixo, trocarmos `X` por `X**2` no código:"
      ]
    },
    {
      "cell_type": "code",
      "execution_count": null,
      "id": "3b929b7a",
      "metadata": {
        "pycharm": {
          "name": "#%%\n"
        },
        "id": "3b929b7a"
      },
      "outputs": [],
      "source": [
        "# Característica polinomial:\n",
        "X = x**2\n",
        "X = X.reshape(-1, 1) # X deve ser uma matriz 2-D"
      ]
    },
    {
      "cell_type": "code",
      "execution_count": null,
      "id": "42ac2a2d",
      "metadata": {
        "colab": {
          "base_uri": "https://localhost:8080/"
        },
        "id": "42ac2a2d",
        "outputId": "c3aaa295-3c2e-4701-c7f7-0bbf3c0841fa"
      },
      "outputs": [
        {
          "output_type": "stream",
          "name": "stdout",
          "text": [
            "Iteração    0: Custo  7329.22   \n",
            "Iteração 1000: Custo     0.22   \n"
          ]
        }
      ],
      "source": [
        "# inicializando parâmetros\n",
        "w_inicial = np.array([0.0])\n",
        "b_inicial = 0\n",
        "# parâmetros para rodar o Método do Gradiente:\n",
        "num_iters  = 10000\n",
        "alpha      = 0.00001 # Veja que foi necessário reduzir o alpha drasticamente\n",
        "# Rodando o Método do gradiente\n",
        "\n",
        "w_final, b_final, J_hist = metodo_do_gradiente(X, y, w_inicial, b_inicial,\n",
        "                                                    calcula_custo, calcula_gradiente,\n",
        "                                                    alpha, num_iters)\n",
        "print(f\"b,w encontrados pelo método do gradiente: {b_final:0.2f},{w_final} \")\n",
        "\n",
        "# Plotando os resultados\n",
        "plt.scatter(x, y, marker='x', c='r', label=\"Value Verdadeiro\"); plt.title(\"Com Engenharia de Características\")\n",
        "plt.plot(x,X@w_final + b_final, label=\"Valor estimado\");  plt.xlabel(\"X\"); plt.ylabel(\"y\"); plt.legend(); plt.show()"
      ]
    },
    {
      "cell_type": "markdown",
      "id": "a19b6235",
      "metadata": {
        "pycharm": {
          "name": "#%% md\n"
        },
        "id": "a19b6235"
      },
      "source": [
        "Uma aproximação quase perfeita! Note que os valores obtidos para $\\mathbf{w}$ e b foram: `b=0.05, w=1.004`.\n",
        "O Método do Gradiente modificou nossos valores iniciais de forma a obter o modelo $y=0.05 + 1.004*x_0^2$, algo bem próximo do nosso alvo $y=1*x_0^2+1$."
      ]
    },
    {
      "cell_type": "markdown",
      "id": "f7932238",
      "metadata": {
        "pycharm": {
          "name": "#%% md\n"
        },
        "id": "f7932238"
      },
      "source": [
        "### Selecionando Características\n",
        "\n",
        "Acima, nós já sabíamos que o termo $x^2$ era necessário. Entretanto, nem sempre é óbvio quais características são necessárias. Uma ideia consiste em adicionar uma variedade de potenciais características para encontrar as mais úteis. Por exemplo, e se nós tentássemos: $y=w_0x_0 + w_1x_1^2 + w_2x_2^3+b$ ?\n",
        "\n",
        "Rodando as células abaixo"
      ]
    },
    {
      "cell_type": "code",
      "execution_count": null,
      "id": "209cedd7",
      "metadata": {
        "pycharm": {
          "name": "#%%\n"
        },
        "id": "209cedd7"
      },
      "outputs": [],
      "source": [
        "# Criando os dados\n",
        "x = np.arange(0, 20, 1)\n",
        "y = x**2\n",
        "\n",
        "# potenciais características:\n",
        "X = np.c_[x, x**2, x**3]  # a função c_ faz a concatenação.\n"
      ]
    },
    {
      "cell_type": "code",
      "execution_count": null,
      "id": "7af6c38f",
      "metadata": {
        "id": "7af6c38f"
      },
      "outputs": [],
      "source": [
        "# inicializando parâmetros\n",
        "m,n       = X.shape\n",
        "w_inicial = np.zeros((n,))\n",
        "b_inicial = 0\n",
        "# parâmetros para rodar o Método do Gradiente:\n",
        "num_iters  = 10000\n",
        "alpha      = 0.0000001 # Veja que foi necessário reduzir o alpha ainda mais\n",
        "# Rodando o Método do gradiente\n",
        "\n",
        "w_final, b_final, J_hist = metodo_do_gradiente(X, y, w_inicial, b_inicial,\n",
        "                                                    calcula_custo, calcula_gradiente,\n",
        "                                                    alpha, num_iters)\n",
        "print(f\"b,w encontrados pelo método do gradiente: {b_final:0.2f},{w_final} \")\n",
        "\n",
        "# Plotando os resultados\n",
        "plt.scatter(x, y, marker='x', c='r', label=\"Value Verdadeiro\"); plt.title(\"Com características x, x**2, x**3\")\n",
        "plt.plot(x,X@w_final + b_final, label=\"Valor estimado\");  plt.xlabel(\"X\"); plt.ylabel(\"y\"); plt.legend(); plt.show()"
      ]
    },
    {
      "cell_type": "markdown",
      "id": "47c707ea",
      "metadata": {
        "pycharm": {
          "name": "#%% md\n"
        },
        "id": "47c707ea"
      },
      "source": [
        "Note o valor de $\\mathbf{w}$, `[0.08 0.54 0.03]` e b é `0.01`.Isso implica que o modelo após o treinamento é :\n",
        "$$ 0.08x + 0.54x^2 + 0.03x^3 + 0.01 $$\n",
        "O Método do Gradiente enfatizou que os dados são melhor explicados pelo termo $x^2$, aumentando o valor de $w_1$ em relação aos outros parâmetros.  \n",
        "> O Método do Gradiente está escolhendo as características 'corretas' para nós enfatizando o parâmetro associado.\n",
        "\n",
        "Vamos revisar as ideias principais:\n",
        "- O valor menor para um parâmetro implica que esse parâmetro é menos importante. No caso extremo, quando o peso do parâmetro é zero ou muito próximo de zero, a característica associada é inútil para modelar os dados.\n",
        "- Acima, após o treinamento, o peso associado com a característica $x^2$ foi muito maior que os pesos associados a $x$ ou $x^3$, uma vez que essa característica é a mais útil para explicar o comportamento dos dados"
      ]
    },
    {
      "cell_type": "markdown",
      "id": "d7fca5cb",
      "metadata": {
        "pycharm": {
          "name": "#%% md\n"
        },
        "id": "d7fca5cb"
      },
      "source": [
        "### Escalonamento de Características\n",
        "\n",
        "Conforme descrito no último código, se os dados têm características com diferentes ordens de grandeza, é recomendável aplicar o escalonamento de características para tornar o processo de treinamento mais rápido. No exemplo acima, tem-se os termos $x$, $x^2$ e $x^3$, que naturalmente possuem escalas bastante diferentes. Vamos então aplicar a normalização Z-Score"
      ]
    },
    {
      "cell_type": "code",
      "execution_count": null,
      "id": "8cbf87b0",
      "metadata": {
        "pycharm": {
          "name": "#%%\n"
        },
        "id": "8cbf87b0"
      },
      "outputs": [],
      "source": [
        "# Criando os dados alvo\n",
        "x = np.arange(0,20,1)\n",
        "y = x**2\n",
        "\n",
        "X = np.c_[x, x**2, x**3] # c_ concatena os dados\n",
        "print(f\"Intervalo pico a pico por característica/coluna nos dados originais  :{np.ptp(X,axis=0)}\")\n",
        "\n",
        "\n",
        "# Fazendo normalização Z-Score\n",
        "X, X_mu, X_sigma = normalizacao_zscore(X)\n",
        "print(X.shape)\n",
        "print(f\"Intervalo pico a pico por característica/coluna nos dados escalonados:{np.ptp(X,axis=0)}\")"
      ]
    },
    {
      "cell_type": "code",
      "execution_count": null,
      "id": "039840db",
      "metadata": {
        "id": "039840db"
      },
      "outputs": [],
      "source": [
        "# inicializando parâmetros\n",
        "m,n       = X.shape\n",
        "w_inicial = np.zeros((n,))\n",
        "b_inicial = 0\n",
        "# parâmetros para rodar o Método do Gradiente:\n",
        "num_iters  = 10000\n",
        "alpha      = 0.3\n",
        "# Rodando o Método do gradiente\n",
        "\n",
        "w_final, b_final, J_hist = metodo_do_gradiente(X, y, w_inicial, b_inicial,\n",
        "                                                    calcula_custo, calcula_gradiente,\n",
        "                                                    alpha, num_iters)\n",
        "print(f\"b,w encontrados pelo método do gradiente: {b_final:0.2f},{w_final} \")\n",
        "\n",
        "# Plotando os resultados\n",
        "plt.scatter(x, y, marker='x', c='r', label=\"Value Verdadeiro\"); plt.title(\"Com características x, x**2, x**3\")\n",
        "plt.plot(x,X@w_final + b_final, label=\"Valor estimado\");  plt.xlabel(\"X\"); plt.ylabel(\"y\"); plt.legend(); plt.show()"
      ]
    },
    {
      "cell_type": "markdown",
      "id": "f557683b",
      "metadata": {
        "pycharm": {
          "name": "#%% md\n"
        },
        "id": "f557683b"
      },
      "source": [
        "Novamente, após o treinamento, o peso associado com a característica $x^2$ é muito maior em comparação com os pesos associados com $x$ e $x^3$."
      ]
    },
    {
      "cell_type": "markdown",
      "id": "04223fd8",
      "metadata": {
        "pycharm": {
          "name": "#%% md\n"
        },
        "id": "04223fd8"
      },
      "source": [
        "### Funções complexas\n",
        "\n",
        "Com a engenharia de características, até mesmo funções complexas podem ser modeladas:"
      ]
    },
    {
      "cell_type": "code",
      "execution_count": null,
      "id": "2d564ad4",
      "metadata": {
        "pycharm": {
          "name": "#%%\n"
        },
        "id": "2d564ad4"
      },
      "outputs": [],
      "source": [
        "x = np.arange(0,20,1)\n",
        "y = np.cos(x/2)\n",
        "\n",
        "X = np.c_[x, x**2, x**3,x**4, x**5, x**6, x**7, x**8, x**9, x**10, x**11, x**12, x**13]\n",
        "X, X_mu, X_sigma = normalizacao_zscore(X)\n",
        "\n",
        "# inicializando parâmetros\n",
        "m,n       = X.shape\n",
        "w_inicial = np.zeros((n,))\n",
        "b_inicial = 0\n",
        "# parâmetros para rodar o Método do Gradiente:\n",
        "num_iters = 500000\n",
        "alpha      = 0.1 # Veja que foi necessário reduzir o alpha ainda mais\n",
        "# Rodando o Método do gradiente\n",
        "\n",
        "w_final, b_final, J_hist = metodo_do_gradiente(X, y, w_inicial, b_inicial,\n",
        "                                                    calcula_custo, calcula_gradiente,\n",
        "                                                    alpha, num_iters)\n",
        "print(f\"b,w encontrados pelo método do gradiente: {b_final:0.2f},{w_final} \")\n",
        "\n",
        "# Plotando os resultados\n",
        "plt.scatter(x, y, marker='x', c='r', label=\"Value Verdadeiro\"); plt.title(\"Com características x, x**2, x**3\")\n",
        "plt.plot(x,X@w_final + b_final, label=\"Valor estimado\");  plt.xlabel(\"X\"); plt.ylabel(\"y\"); plt.legend(); plt.show()\n"
      ]
    },
    {
      "cell_type": "markdown",
      "id": "e64ac44f",
      "metadata": {
        "pycharm": {
          "name": "#%% md\n"
        },
        "id": "e64ac44f"
      },
      "source": [
        "\n",
        "## Parabéns!\n",
        "Com este código, você:\n",
        "- aprendeu como a regressão linear é capaz de modelar funções complexas, até mesmo funções altamente não lineares usando engenharia de características\n",
        "- reconheceu que é importante aplicar escalonamento de características ao fazer engenharia de características"
      ]
    },
    {
      "cell_type": "code",
      "execution_count": null,
      "id": "e6acc4f5",
      "metadata": {
        "pycharm": {
          "name": "#%%\n"
        },
        "id": "e6acc4f5"
      },
      "outputs": [],
      "source": []
    }
  ],
  "metadata": {
    "kernelspec": {
      "display_name": "Python 3 (ipykernel)",
      "language": "python",
      "name": "python3"
    },
    "language_info": {
      "codemirror_mode": {
        "name": "ipython",
        "version": 3
      },
      "file_extension": ".py",
      "mimetype": "text/x-python",
      "name": "python",
      "nbconvert_exporter": "python",
      "pygments_lexer": "ipython3",
      "version": "3.9.12"
    },
    "toc-autonumbering": false,
    "colab": {
      "provenance": [],
      "include_colab_link": true
    }
  },
  "nbformat": 4,
  "nbformat_minor": 5
}