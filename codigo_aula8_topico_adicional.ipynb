{
  "cells": [
    {
      "cell_type": "markdown",
      "metadata": {
        "id": "view-in-github",
        "colab_type": "text"
      },
      "source": [
        "<a href=\"https://colab.research.google.com/github/xaximpvp2/master/blob/main/codigo_aula8_topico_adicional.ipynb\" target=\"_parent\"><img src=\"https://colab.research.google.com/assets/colab-badge.svg\" alt=\"Open In Colab\"/></a>"
      ]
    },
    {
      "cell_type": "markdown",
      "id": "07151dc3",
      "metadata": {
        "pycharm": {
          "name": "#%% md\n"
        },
        "id": "07151dc3"
      },
      "source": [
        "# Regressão linear usando Scikit-Learn"
      ]
    },
    {
      "cell_type": "markdown",
      "id": "38cec147",
      "metadata": {
        "pycharm": {
          "name": "#%% md\n"
        },
        "id": "38cec147"
      },
      "source": [
        "Há uma biblioteca de ferramentas open-source, e com possibilidade de uso comercial, denominada [scikit-learn](https://scikit-learn.org/stable/index.html). Essa biblioteca é vastamente utilizada no mundo e contém implementações de diversos algoritmos que iremos usar na nossa disciplina.\n",
        "\n"
      ]
    },
    {
      "cell_type": "markdown",
      "id": "7a95efc0",
      "metadata": {
        "pycharm": {
          "name": "#%% md\n"
        },
        "id": "7a95efc0"
      },
      "source": [
        "## Objetivos\n",
        "\n",
        "Com este código, você irá:\n",
        "- Usar o Scikit-Learn (também chamada de SK-Learn) para implementar regressão linear usando o método do gradiente"
      ]
    },
    {
      "cell_type": "code",
      "execution_count": 1,
      "id": "2de87c7c",
      "metadata": {
        "pycharm": {
          "name": "#%%\n"
        },
        "id": "2de87c7c"
      },
      "outputs": [],
      "source": [
        "import numpy as np\n",
        "import matplotlib.pyplot as plt\n",
        "from sklearn.linear_model import SGDRegressor          # Carregando ferramentas presentes na SK-learn\n",
        "from sklearn.preprocessing import StandardScaler       # Carregando ferramentas presentes na SK-learn\n",
        "np.set_printoptions(precision=2)"
      ]
    },
    {
      "cell_type": "markdown",
      "id": "32646406",
      "metadata": {
        "pycharm": {
          "name": "#%% md\n"
        },
        "id": "32646406"
      },
      "source": [
        "# Método do Gradiente\n",
        "\n",
        "Scikit-learn possui o seguinte modelo de regressão baseado no método do gradiente: [sklearn.linear_model.SGDRegressor](https://scikit-learn.org/stable/modules/generated/sklearn.linear_model.SGDRegressor.html#examples-using-sklearn-linear-model-sgdregressor).  \n",
        "\n",
        "Assim como em nossas implementações anteriores do método do gradiente, o modelo performa melhor normalizando-se as suas entradas. Nesse sentido, para este fim, usaremos [sklearn.preprocessing.StandardScaler](https://scikit-learn.org/stable/modules/generated/sklearn.preprocessing.StandardScaler.html#sklearn.preprocessing.StandardScaler) para realizar a normalização z-score. Aqui, a função que realiza tal normalização recebe o nome de 'standard scaler'."
      ]
    },
    {
      "cell_type": "markdown",
      "id": "2be69b25",
      "metadata": {
        "pycharm": {
          "name": "#%% md\n"
        },
        "id": "2be69b25"
      },
      "source": [
        "### Carregando o banco de dados"
      ]
    },
    {
      "cell_type": "code",
      "execution_count": 3,
      "id": "4bb046d9",
      "metadata": {
        "pycharm": {
          "name": "#%%\n"
        },
        "id": "4bb046d9"
      },
      "outputs": [],
      "source": [
        "file = open('dados_casas.txt') # As quatro primeiras colunas referem-se a características das casas.\n",
        "                               # A quinta (última) coluna refere-se ao preço pelo qual tais casas foram negociadas\n",
        "dados = np.loadtxt(file, delimiter=\",\")\n",
        "\n",
        "X_train = dados[:,0:4]\n",
        "y_train = dados[:,-1] # pega apenas a última coluna. Seria o mesmo que y = dados[:,4]\n",
        "\n",
        "X_caracteristicas = ['Área (sqft)','quartos','andar','idade']"
      ]
    },
    {
      "cell_type": "markdown",
      "id": "ee87d07f",
      "metadata": {
        "pycharm": {
          "name": "#%% md\n"
        },
        "id": "ee87d07f"
      },
      "source": [
        "### Normalizando os dados"
      ]
    },
    {
      "cell_type": "code",
      "execution_count": 4,
      "id": "b2d35f07",
      "metadata": {
        "pycharm": {
          "name": "#%%\n"
        },
        "colab": {
          "base_uri": "https://localhost:8080/"
        },
        "id": "b2d35f07",
        "outputId": "87b98b02-68d4-4171-b45b-1582be00f446"
      },
      "outputs": [
        {
          "output_type": "stream",
          "name": "stdout",
          "text": [
            "Intervalo pico a pico por característica/coluna nos dados originais  :[2.41e+03 4.00e+00 1.00e+00 9.50e+01]\n",
            "Intervalo pico a pico por característica/coluna nos dados escalonados:[5.84 6.13 2.06 3.68]\n"
          ]
        }
      ],
      "source": [
        "scaler = StandardScaler()\n",
        "X_norm = scaler.fit_transform(X_train)\n",
        "print(f\"Intervalo pico a pico por característica/coluna nos dados originais  :{np.ptp(X_train,axis=0)}\")\n",
        "print(f\"Intervalo pico a pico por característica/coluna nos dados escalonados:{np.ptp(X_norm,axis=0)}\")"
      ]
    },
    {
      "cell_type": "markdown",
      "id": "126e048e",
      "metadata": {
        "pycharm": {
          "name": "#%% md\n"
        },
        "id": "126e048e"
      },
      "source": [
        "### Criando e treinando o modelo de regressão"
      ]
    },
    {
      "cell_type": "code",
      "execution_count": 7,
      "id": "f754af76",
      "metadata": {
        "pycharm": {
          "name": "#%%\n"
        },
        "colab": {
          "base_uri": "https://localhost:8080/"
        },
        "id": "f754af76",
        "outputId": "b1e05c40-483c-44f5-a4a9-7750b14ae62d"
      },
      "outputs": [
        {
          "output_type": "stream",
          "name": "stdout",
          "text": [
            "SGDRegressor()\n"
          ]
        }
      ],
      "source": [
        "sgdr = SGDRegressor(max_iter=1000)\n",
        "sgdr.fit(X_norm, y_train)\n",
        "print(sgdr)\n",
        "#print(f\"Número de iterações completadas: {sgdr.n_iter_}, Número de atualizações de parâmetros: {sgdr.t_}\")"
      ]
    },
    {
      "cell_type": "markdown",
      "id": "a6599d8b",
      "metadata": {
        "pycharm": {
          "name": "#%% md\n"
        },
        "id": "a6599d8b"
      },
      "source": [
        "### Acessando os parâmetros ajustados para o modelo\n",
        "É importante saber que os parâmetros estarão associados com os dados de entrada *normalizados*. Os valores para tais parâmetros estão bem próximos daqueles encontrados no nosso próprio código de regressão usando o gradiente."
      ]
    },
    {
      "cell_type": "code",
      "execution_count": 8,
      "id": "c1ed4dae",
      "metadata": {
        "pycharm": {
          "name": "#%%\n"
        },
        "colab": {
          "base_uri": "https://localhost:8080/"
        },
        "id": "c1ed4dae",
        "outputId": "2c29e00d-8ede-4102-914e-bf56f91450a0"
      },
      "outputs": [
        {
          "output_type": "stream",
          "name": "stdout",
          "text": [
            "parâmetros do modelo:                   w: [110.32 -21.34 -32.51 -37.84], b:[362.25]\n",
            "parâmetros do modelo (nosso código):    w: [110.61 -21.47 -32.66 -37.78], b: 362.24\n"
          ]
        }
      ],
      "source": [
        "b_norm = sgdr.intercept_\n",
        "w_norm = sgdr.coef_\n",
        "print(f\"parâmetros do modelo:                   w: {w_norm}, b:{b_norm}\")\n",
        "print( \"parâmetros do modelo (nosso código):    w: [110.61 -21.47 -32.66 -37.78], b: 362.24\")"
      ]
    },
    {
      "cell_type": "markdown",
      "id": "68bb0be0",
      "metadata": {
        "pycharm": {
          "name": "#%% md\n"
        },
        "id": "68bb0be0"
      },
      "source": [
        "### Fazendo previsões\n",
        "\n",
        "Fazendo previsões do valor alvo para os dados de treinamento. Para isso, usaremos a rotina `predict`."
      ]
    },
    {
      "cell_type": "code",
      "execution_count": 9,
      "id": "a2ad8fea",
      "metadata": {
        "pycharm": {
          "name": "#%%\n"
        },
        "colab": {
          "base_uri": "https://localhost:8080/"
        },
        "id": "a2ad8fea",
        "outputId": "44e0acad-18e8-420f-b01b-8b474f3137f0"
      },
      "outputs": [
        {
          "output_type": "stream",
          "name": "stdout",
          "text": [
            "As duas previsões são iguais? True\n",
            "Valores obtidos de previsão:\n",
            "[248.68 295.6  485.75 389.65]\n",
            "Valores alvo: \n",
            "[271.5 300.  509.8 394. ]\n"
          ]
        }
      ],
      "source": [
        "y_pred_sgd = sgdr.predict(X_norm)\n",
        "# Opção 2: Previsão usando w,b diretamente.\n",
        "y_pred = np.dot(X_norm, w_norm) + b_norm\n",
        "print(f\"As duas previsões são iguais? {(y_pred == y_pred_sgd).all()}\")\n",
        "\n",
        "print(f\"Valores obtidos de previsão:\\n{y_pred[:4]}\" )\n",
        "print(f\"Valores alvo: \\n{y_train[:4]}\")"
      ]
    },
    {
      "cell_type": "markdown",
      "id": "1130b49e",
      "metadata": {
        "pycharm": {
          "name": "#%% md\n"
        },
        "id": "1130b49e"
      },
      "source": [
        "# Um método alternativo ao Gradiente, denominado: Equação Normal\n",
        "\n",
        "\n",
        "Quando falamos especificamente da **Regressão Linear**, a biblioteca Scikit-learn também possui [uma ferramenta de regressão alternativa ao método do gradiente](https://scikit-learn.org/stable/modules/generated/sklearn.linear_model.LinearRegression.html#sklearn.linear_model.LinearRegression), que implementa uma solução fechada (não iterativa) para o problema de regressão linear, e que se baseia na *Equação Normal* do problema dos mínimos quadrados linear.\n",
        "\n",
        "Usaremos essa outra ferramenta de regressão linear fornecida pelo Scikit-Learn e compararemos com os resultados obtidos anteriormente pelo método do gradiente.\n"
      ]
    },
    {
      "cell_type": "code",
      "execution_count": 10,
      "id": "2dff52e5",
      "metadata": {
        "colab": {
          "base_uri": "https://localhost:8080/"
        },
        "id": "2dff52e5",
        "outputId": "c9539cc6-f142-47b3-dc90-16e0ebbcff1a"
      },
      "outputs": [
        {
          "output_type": "stream",
          "name": "stdout",
          "text": [
            "parâmetros do modelo (Método Equação Normal do Scikit-learn) w: [110.61 -21.47 -32.66 -37.78], b:362.23952\n",
            "parâmetros do modelo (Método do Gradiente do Scikit-learn) w: [110.32 -21.34 -32.51 -37.84], b:[362.25]\n",
            "parâmetros do modelo (nosso Método do Gradiente):    w: [110.61 -21.47 -32.66 -37.78], b: 362.24\n"
          ]
        }
      ],
      "source": [
        "from sklearn.linear_model import LinearRegression # a rotina LinearRegression do Scikit learn implementa uma solução específica para esse tipo de problema, denominada Solução Fechada da Equação Normal do problema dos mínimos quadrados\n",
        "\n",
        "modelo_LinReg = LinearRegression()\n",
        "modelo_LinReg.fit(X_norm, y_train)\n",
        "\n",
        "b_LinReg = modelo_LinReg.intercept_\n",
        "w_LinReg = modelo_LinReg.coef_\n",
        "print(f\"parâmetros do modelo (Método Equação Normal do Scikit-learn) w: {w_LinReg}, b:{b_LinReg}\")\n",
        "print(f\"parâmetros do modelo (Método do Gradiente do Scikit-learn) w: {w_norm}, b:{b_norm}\")\n",
        "print( \"parâmetros do modelo (nosso Método do Gradiente):    w: [110.61 -21.47 -32.66 -37.78], b: 362.24\")"
      ]
    },
    {
      "cell_type": "markdown",
      "id": "9efcb718",
      "metadata": {
        "pycharm": {
          "name": "#%% md\n"
        },
        "id": "9efcb718"
      },
      "source": [
        "## Parabéns!\n",
        "Com este código, você:\n",
        "- utilizou pela primeira vez a poderosa biblioteca, Scikit-Learn!\n",
        "- implementou regressão linear usando o Método do Gradiente e Normalização de características usando essa biblioteca\n",
        "- implementou regressão linear usando a rotina LinearRegression (baseada na Equação Normal) dessa biblioteca."
      ]
    },
    {
      "cell_type": "code",
      "execution_count": null,
      "id": "15cc620a",
      "metadata": {
        "pycharm": {
          "name": "#%%\n"
        },
        "id": "15cc620a"
      },
      "outputs": [],
      "source": []
    }
  ],
  "metadata": {
    "kernelspec": {
      "display_name": "Python 3 (ipykernel)",
      "language": "python",
      "name": "python3"
    },
    "language_info": {
      "codemirror_mode": {
        "name": "ipython",
        "version": 3
      },
      "file_extension": ".py",
      "mimetype": "text/x-python",
      "name": "python",
      "nbconvert_exporter": "python",
      "pygments_lexer": "ipython3",
      "version": "3.9.12"
    },
    "colab": {
      "provenance": [],
      "include_colab_link": true
    }
  },
  "nbformat": 4,
  "nbformat_minor": 5
}