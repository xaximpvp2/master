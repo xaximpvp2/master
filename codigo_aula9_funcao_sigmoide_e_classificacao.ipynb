{
  "cells": [
    {
      "cell_type": "markdown",
      "metadata": {
        "id": "view-in-github",
        "colab_type": "text"
      },
      "source": [
        "<a href=\"https://colab.research.google.com/github/xaximpvp2/master/blob/main/codigo_aula9_funcao_sigmoide_e_classificacao.ipynb\" target=\"_parent\"><img src=\"https://colab.research.google.com/assets/colab-badge.svg\" alt=\"Open In Colab\"/></a>"
      ]
    },
    {
      "cell_type": "markdown",
      "id": "0e66b4b5",
      "metadata": {
        "pycharm": {
          "name": "#%% md\n"
        },
        "id": "0e66b4b5"
      },
      "source": [
        "# Classificação e Função Sigmoide\n"
      ]
    },
    {
      "cell_type": "markdown",
      "id": "d49c02b7",
      "metadata": {
        "pycharm": {
          "name": "#%% md\n"
        },
        "id": "d49c02b7"
      },
      "source": [
        "## Objetivos\n",
        "\n",
        "Com este código, você irá:\n",
        "- Explorar o conceito de classificação\n",
        "- Explorar a função sigmoide (também conhecida como função logística)"
      ]
    },
    {
      "cell_type": "code",
      "execution_count": 1,
      "id": "77673a9e",
      "metadata": {
        "pycharm": {
          "name": "#%%\n"
        },
        "id": "77673a9e"
      },
      "outputs": [],
      "source": [
        "import numpy as np\n",
        "import matplotlib.pyplot as plt\n",
        "np.set_printoptions(precision=2)"
      ]
    },
    {
      "cell_type": "markdown",
      "id": "d8f877bb",
      "metadata": {
        "pycharm": {
          "name": "#%% md\n"
        },
        "id": "d8f877bb"
      },
      "source": [
        "## Problemas de Classificação\n",
        "\n",
        "Exemplos de problemas de classificação são coisas como:\n",
        "- Identificar se o e-mail é SPAM ou não\n",
        "- Determinar se um tumor é maligno ou beningo\n",
        "\n",
        "Especificamente, esses são problemas de classificação binária, onde só existem dois possíveis valores de saída.\n",
        "Esses valores de saída podem ser descritos como 'positivo'/'negativo', 'sim'/'não', 'verdadeiro'/'falso' ou '1'/'0'\n",
        "\n",
        "As figuras feitas para problemas de classificação geralmente usam símbolos para indicar o valor de saída de uma amostra. Nos gráficos abaixo, 'X' é usado para representar valores positivos e 'O' é usado para representar valores negativos."
      ]
    },
    {
      "cell_type": "code",
      "execution_count": 3,
      "id": "978f6d50",
      "metadata": {
        "colab": {
          "base_uri": "https://localhost:8080/",
          "height": 306
        },
        "id": "978f6d50",
        "outputId": "8e896c70-7195-4ac8-a08e-15181fbc9298"
      },
      "outputs": [
        {
          "output_type": "display_data",
          "data": {
            "text/plain": [
              "<Figure size 800x300 with 2 Axes>"
            ],
            "image/png": "[encoded data removed]"
          },
          "metadata": {}
        }
      ],
      "source": [
        "x_train = np.array([0., 1, 2, 3, 4, 5])\n",
        "y_train = np.array([0,  0, 0, 1, 1, 1])\n",
        "\n",
        "pos = y_train == 1\n",
        "neg = y_train == 0\n",
        "\n",
        "fig,ax = plt.subplots(1,2,figsize=(8,3))\n",
        "ax[0].scatter(x_train[pos], y_train[pos], marker='x', s=80, c = 'red', label=\"y=1\")\n",
        "ax[0].scatter(x_train[neg], y_train[neg], marker='o', s=100, label=\"y=0\", facecolors='none',\n",
        "              edgecolors='b',lw=3)\n",
        "\n",
        "ax[0].set_ylim(-0.08,1.1)\n",
        "ax[0].set_ylabel('y', fontsize=12)\n",
        "ax[0].set_xlabel('x', fontsize=12)\n",
        "ax[0].set_title('Plotando problema com uma variável')\n",
        "ax[0].legend()\n",
        "\n",
        "\n",
        "X_train2 = np.array([[0.5, 1.5], [1,1], [1.5, 0.5], [3, 0.5], [2, 2], [1, 2.5]])\n",
        "y_train2 = np.array([0, 0, 0, 1, 1, 1])\n",
        "pos      = y_train2 == 1\n",
        "neg      = y_train2 == 0\n",
        "\n",
        "ax[1].scatter(X_train2[pos,0], X_train2[pos,1], marker='x', s=80, c = 'red', label=\"y=1\")\n",
        "ax[1].scatter(X_train2[neg,0], X_train2[neg,1], marker='o', s=100, label=\"y=0\", facecolors='none',\n",
        "              edgecolors='b',lw=3)\n",
        "ax[1].axis([0, 4, 0, 4])\n",
        "ax[1].set_ylabel('$x_1$', fontsize=12)\n",
        "ax[1].set_xlabel('$x_0$', fontsize=12)\n",
        "ax[1].set_title('Plotando problema com duas variáveis')\n",
        "ax[1].legend()\n",
        "plt.tight_layout()\n",
        "plt.show()\n"
      ]
    },
    {
      "cell_type": "markdown",
      "id": "9c680b57",
      "metadata": {
        "pycharm": {
          "name": "#%% md\n"
        },
        "id": "9c680b57"
      },
      "source": [
        "## Função Sigmoide\n",
        "\n",
        "Conforme discutido, num problema de classificação, nós podemos começar pensando num modelo de regressão $f_{\\mathbf{w},b}(\\mathbf{x}^{(i)}) = \\mathbf{w} \\cdot  \\mathbf{x}^{(i)} + b$, para prever $y$ dado $x$.\n",
        "- Entretanto, nós gostaríamos que as previsões feitas pelo modelo de classificação fossem entre 0 e 1, uma vez que nossa variável de saída é ou 0 ou 1.\n",
        "- Isso pode ser obtido usando a função sigmoide, que mapeia todos os valores de entrada para valores entre 0 e 1.\n",
        "\n",
        "\n",
        "Vamos agora implementar essa função.\n",
        "\n",
        "\n",
        "## Fórmula para a função sigmoide\n",
        "\n",
        "A equação para a função sigmoide é\n",
        "\n",
        "$g(z) = \\frac{1}{1+e^{-z}}\\tag{1}$\n",
        "\n",
        "No caso da Regressão Logística, z (entrada da função sigmoide) é a saída do modelo de regressão linear.\n",
        "- No caso de uma única amostra, $z$ é um escalar\n",
        "- No caso de múltiplas amostras (exemplos), $z$ pode ser um vetor com $m$ valores, um para cada amostra\n",
        "- A implementação da função sigmoide deve levar em conta essas duas possibildades de formato de dados de entrada"
      ]
    },
    {
      "cell_type": "markdown",
      "id": "ab798bc7",
      "metadata": {
        "pycharm": {
          "name": "#%% md\n"
        },
        "id": "ab798bc7"
      },
      "source": [
        "NumPy tem a função chamada [`exp()`](https://numpy.org/doc/stable/reference/generated/numpy.exp.html), que fornece uma forma conveninente para calcular a exponencial ( $e^{z}$) de todos os elementos presentes na array de entrada (`z`).\n",
        "\n",
        "Isso também funciona para escalares, conforme mostrado abaixo."
      ]
    },
    {
      "cell_type": "code",
      "execution_count": 4,
      "id": "6dfb0f43",
      "metadata": {
        "pycharm": {
          "name": "#%%\n"
        },
        "colab": {
          "base_uri": "https://localhost:8080/"
        },
        "id": "6dfb0f43",
        "outputId": "112f43ed-a11f-456e-bbd8-e9662bb2901d"
      },
      "outputs": [
        {
          "output_type": "stream",
          "name": "stdout",
          "text": [
            "entrada da exp: [1 2 3]\n",
            "saída da exp: [ 2.72  7.39 20.09]\n",
            "entrada da exp: 1\n",
            "saída exp: 2.718281828459045\n"
          ]
        }
      ],
      "source": [
        "# Entrada na forma de array\n",
        "array_de_entrada = np.array([1,2,3])\n",
        "exp_array   = np.exp(array_de_entrada)\n",
        "\n",
        "print(\"entrada da exp:\", array_de_entrada)\n",
        "print(\"saída da exp:\", exp_array)\n",
        "\n",
        "# Entrada dada por um único escalar\n",
        "valor_de_entrada = 1\n",
        "exp_val = np.exp(valor_de_entrada)\n",
        "\n",
        "print(\"entrada da exp:\", valor_de_entrada)\n",
        "print(\"saída exp:\", exp_val)"
      ]
    },
    {
      "cell_type": "markdown",
      "id": "e1f5a35c",
      "metadata": {
        "pycharm": {
          "name": "#%% md\n"
        },
        "id": "e1f5a35c"
      },
      "source": [
        "A função `sigmoide` é implementada em Python conforme mostrado abaixo"
      ]
    },
    {
      "cell_type": "code",
      "execution_count": 6,
      "id": "aee495cb",
      "metadata": {
        "pycharm": {
          "name": "#%%\n"
        },
        "id": "aee495cb"
      },
      "outputs": [],
      "source": [
        "def sigmoide(z):\n",
        "    \"\"\"\n",
        "    Calcula o valor sigmoide de z\n",
        "\n",
        "    Argumento:\n",
        "        z (ndarray): Um escalar ou numpy array de qualquer tamanho.\n",
        "\n",
        "    Retorna:\n",
        "        g (ndarray): sigmoid(z), com o mesmo shape de z\n",
        "\n",
        "    \"\"\"\n",
        "\n",
        "    g = 1/(1+np.exp(-z))\n",
        "\n",
        "    return g"
      ]
    },
    {
      "cell_type": "markdown",
      "id": "c5529ac6",
      "metadata": {
        "pycharm": {
          "name": "#%% md\n"
        },
        "id": "c5529ac6"
      },
      "source": [
        "Vamos avaliar a saída dessa função para diferentes valores de `z`"
      ]
    },
    {
      "cell_type": "code",
      "execution_count": 7,
      "id": "2b7c4021",
      "metadata": {
        "pycharm": {
          "name": "#%%\n"
        },
        "colab": {
          "base_uri": "https://localhost:8080/"
        },
        "id": "2b7c4021",
        "outputId": "32f4d6b5-708e-4c30-f99d-a64d27ef60ba"
      },
      "outputs": [
        {
          "output_type": "stream",
          "name": "stdout",
          "text": [
            "Entrada (z), Saída (sigmoid(z))\n",
            "[[-1.00e+01  4.54e-05]\n",
            " [-9.00e+00  1.23e-04]\n",
            " [-8.00e+00  3.35e-04]\n",
            " [-7.00e+00  9.11e-04]\n",
            " [-6.00e+00  2.47e-03]\n",
            " [-5.00e+00  6.69e-03]\n",
            " [-4.00e+00  1.80e-02]\n",
            " [-3.00e+00  4.74e-02]\n",
            " [-2.00e+00  1.19e-01]\n",
            " [-1.00e+00  2.69e-01]\n",
            " [ 0.00e+00  5.00e-01]\n",
            " [ 1.00e+00  7.31e-01]\n",
            " [ 2.00e+00  8.81e-01]\n",
            " [ 3.00e+00  9.53e-01]\n",
            " [ 4.00e+00  9.82e-01]\n",
            " [ 5.00e+00  9.93e-01]\n",
            " [ 6.00e+00  9.98e-01]\n",
            " [ 7.00e+00  9.99e-01]\n",
            " [ 8.00e+00  1.00e+00]\n",
            " [ 9.00e+00  1.00e+00]\n",
            " [ 1.00e+01  1.00e+00]]\n"
          ]
        }
      ],
      "source": [
        "# Gerando uma array com valores entre -10 e 10\n",
        "z_tmp = np.arange(-10,11)\n",
        "\n",
        "# Usando a função\n",
        "y = sigmoide(z_tmp)\n",
        "\n",
        "# Mostrando entrada e saída lado a lado\n",
        "print(\"Entrada (z), Saída (sigmoid(z))\")\n",
        "\n",
        "print(np.c_[z_tmp, y])"
      ]
    },
    {
      "cell_type": "markdown",
      "id": "9a1de6e1",
      "metadata": {
        "pycharm": {
          "name": "#%% md\n"
        },
        "id": "9a1de6e1"
      },
      "source": [
        "Os valores da esquerda são `z`, e os valores da coluna da esquerda são `sigmoid(z)`. Como você pode observar, os valores de entrada vão de -10 a 10, e os valores de saída vão de 0 a 1.\n",
        "\n",
        "Vamos agora plotar essa função usando a biblioteca `matplotlib`."
      ]
    },
    {
      "cell_type": "code",
      "execution_count": 9,
      "id": "db9459d2",
      "metadata": {
        "pycharm": {
          "name": "#%%\n"
        },
        "colab": {
          "base_uri": "https://localhost:8080/",
          "height": 350
        },
        "id": "db9459d2",
        "outputId": "8a75d221-8cc0-4610-ad11-7016d2562b61"
      },
      "outputs": [
        {
          "output_type": "execute_result",
          "data": {
            "text/plain": [
              "Text(0.5, 0, 'z')"
            ]
          },
          "metadata": {},
          "execution_count": 9
        },
        {
          "output_type": "display_data",
          "data": {
            "text/plain": [
              "<Figure size 500x300 with 1 Axes>"
            ],
            "image/png": "[encoded data removed]"
          },
          "metadata": {}
        }
      ],
      "source": [
        "fig,ax = plt.subplots(1,1,figsize=(5,3))\n",
        "ax.plot(z_tmp, y, c=\"b\")\n",
        "\n",
        "ax.set_title(\"Função sigmoide\")\n",
        "ax.set_ylabel('sigmoide(z)')\n",
        "ax.set_xlabel('z')"
      ]
    },
    {
      "cell_type": "markdown",
      "id": "7c0d7de8",
      "metadata": {
        "pycharm": {
          "name": "#%% md\n"
        },
        "id": "7c0d7de8"
      },
      "source": [
        "Conforme você pode observar, a função sigmoide tende a `0` conforme `z` atinge grandes valores negativos e tende a `1` conforme `z` atinge grandes valores positivos"
      ]
    },
    {
      "cell_type": "markdown",
      "id": "fcba68db",
      "metadata": {
        "pycharm": {
          "name": "#%% md\n"
        },
        "id": "fcba68db"
      },
      "source": [
        "## Regressão Logística\n",
        "\n",
        "Um modelo de Regressão Logística aplica a função sigmoide para o modelo de regressão linear, conforme mostrado abaixo:\n",
        "\n",
        "$$ f_{\\mathbf{w},b}(\\mathbf{x}^{(i)}) = g(\\mathbf{w} \\cdot \\mathbf{x}^{(i)} + b ) \\tag{2} $$\n",
        "\n",
        "  onde\n",
        "\n",
        "  $g(z) = \\frac{1}{1+e^{-z}}\\tag{3}$\n"
      ]
    },
    {
      "cell_type": "markdown",
      "id": "21fac79a",
      "metadata": {
        "pycharm": {
          "name": "#%% md\n"
        },
        "id": "21fac79a"
      },
      "source": [
        "Para os dados abaixo, busque encontrar 'manualmente' quais seriam valores adequados para 'w' e 'b' que fazem com que o modelo seja capaz de diferenciar um tumor maligno de um tumor benigno."
      ]
    },
    {
      "cell_type": "code",
      "execution_count": 18,
      "id": "59bab6df",
      "metadata": {
        "pycharm": {
          "name": "#%%\n"
        },
        "tags": [],
        "colab": {
          "base_uri": "https://localhost:8080/",
          "height": 272
        },
        "id": "59bab6df",
        "outputId": "b676e883-91ed-4850-fe5d-bde50ace2efe"
      },
      "outputs": [
        {
          "output_type": "stream",
          "name": "stdout",
          "text": [
            "(6,)\n",
            "(6,)\n"
          ]
        },
        {
          "output_type": "display_data",
          "data": {
            "text/plain": [
              "   Entrada (x)     z  Prob. de ser malígno  Alvo\n",
              "0          0.0  -4.0              0.017986     0\n",
              "1          1.0   0.0              0.500000     0\n",
              "2          2.0   4.0              0.982014     0\n",
              "3          3.0   8.0              0.999665     1\n",
              "4          4.0  12.0              0.999994     1\n",
              "5          5.0  16.0              1.000000     1"
            ],
            "text/html": [
              "\n",
              "  <div id=\"df-4dfd93ff-291d-4df0-9de0-cb71368256c7\" class=\"colab-df-container\">\n",
              "    <div>\n",
              "<style scoped>\n",
              "    .dataframe tbody tr th:only-of-type {\n",
              "        vertical-align: middle;\n",
              "    }\n",
              "\n",
              "    .dataframe tbody tr th {\n",
              "        vertical-align: top;\n",
              "    }\n",
              "\n",
              "    .dataframe thead th {\n",
              "        text-align: right;\n",
              "    }\n",
              "</style>\n",
              "<table border=\"1\" class=\"dataframe\">\n",
              "  <thead>\n",
              "    <tr style=\"text-align: right;\">\n",
              "      <th></th>\n",
              "      <th>Entrada (x)</th>\n",
              "      <th>z</th>\n",
              "      <th>Prob. de ser malígno</th>\n",
              "      <th>Alvo</th>\n",
              "    </tr>\n",
              "  </thead>\n",
              "  <tbody>\n",
              "    <tr>\n",
              "      <th>0</th>\n",
              "      <td>0.0</td>\n",
              "      <td>-4.0</td>\n",
              "      <td>0.017986</td>\n",
              "      <td>0</td>\n",
              "    </tr>\n",
              "    <tr>\n",
              "      <th>1</th>\n",
              "      <td>1.0</td>\n",
              "      <td>0.0</td>\n",
              "      <td>0.500000</td>\n",
              "      <td>0</td>\n",
              "    </tr>\n",
              "    <tr>\n",
              "      <th>2</th>\n",
              "      <td>2.0</td>\n",
              "      <td>4.0</td>\n",
              "      <td>0.982014</td>\n",
              "      <td>0</td>\n",
              "    </tr>\n",
              "    <tr>\n",
              "      <th>3</th>\n",
              "      <td>3.0</td>\n",
              "      <td>8.0</td>\n",
              "      <td>0.999665</td>\n",
              "      <td>1</td>\n",
              "    </tr>\n",
              "    <tr>\n",
              "      <th>4</th>\n",
              "      <td>4.0</td>\n",
              "      <td>12.0</td>\n",
              "      <td>0.999994</td>\n",
              "      <td>1</td>\n",
              "    </tr>\n",
              "    <tr>\n",
              "      <th>5</th>\n",
              "      <td>5.0</td>\n",
              "      <td>16.0</td>\n",
              "      <td>1.000000</td>\n",
              "      <td>1</td>\n",
              "    </tr>\n",
              "  </tbody>\n",
              "</table>\n",
              "</div>\n",
              "    <div class=\"colab-df-buttons\">\n",
              "\n",
              "  <div class=\"colab-df-container\">\n",
              "    <button class=\"colab-df-convert\" onclick=\"convertToInteractive('df-4dfd93ff-291d-4df0-9de0-cb71368256c7')\"\n",
              "            title=\"Convert this dataframe to an interactive table.\"\n",
              "            style=\"display:none;\">\n",
              "\n",
              "  <svg xmlns=\"http://www.w3.org/2000/svg\" height=\"24px\" viewBox=\"0 -960 960 960\">\n",
              "    <path d=\"M120-120v-720h720v720H120Zm60-500h600v-160H180v160Zm220 220h160v-160H400v160Zm0 220h160v-160H400v160ZM180-400h160v-160H180v160Zm440 0h160v-160H620v160ZM180-180h160v-160H180v160Zm440 0h160v-160H620v160Z\"/>\n",
              "  </svg>\n",
              "    </button>\n",
              "\n",
              "  <style>\n",
              "    .colab-df-container {\n",
              "      display:flex;\n",
              "      gap: 12px;\n",
              "    }\n",
              "\n",
              "    .colab-df-convert {\n",
              "      background-color: #E8F0FE;\n",
              "      border: none;\n",
              "      border-radius: 50%;\n",
              "      cursor: pointer;\n",
              "      display: none;\n",
              "      fill: #1967D2;\n",
              "      height: 32px;\n",
              "      padding: 0 0 0 0;\n",
              "      width: 32px;\n",
              "    }\n",
              "\n",
              "    .colab-df-convert:hover {\n",
              "      background-color: #E2EBFA;\n",
              "      box-shadow: 0px 1px 2px rgba(60, 64, 67, 0.3), 0px 1px 3px 1px rgba(60, 64, 67, 0.15);\n",
              "      fill: #174EA6;\n",
              "    }\n",
              "\n",
              "    .colab-df-buttons div {\n",
              "      margin-bottom: 4px;\n",
              "    }\n",
              "\n",
              "    [theme=dark] .colab-df-convert {\n",
              "      background-color: #3B4455;\n",
              "      fill: #D2E3FC;\n",
              "    }\n",
              "\n",
              "    [theme=dark] .colab-df-convert:hover {\n",
              "      background-color: #434B5C;\n",
              "      box-shadow: 0px 1px 3px 1px rgba(0, 0, 0, 0.15);\n",
              "      filter: drop-shadow(0px 1px 2px rgba(0, 0, 0, 0.3));\n",
              "      fill: #FFFFFF;\n",
              "    }\n",
              "  </style>\n",
              "\n",
              "    <script>\n",
              "      const buttonEl =\n",
              "        document.querySelector('#df-4dfd93ff-291d-4df0-9de0-cb71368256c7 button.colab-df-convert');\n",
              "      buttonEl.style.display =\n",
              "        google.colab.kernel.accessAllowed ? 'block' : 'none';\n",
              "\n",
              "      async function convertToInteractive(key) {\n",
              "        const element = document.querySelector('#df-4dfd93ff-291d-4df0-9de0-cb71368256c7');\n",
              "        const dataTable =\n",
              "          await google.colab.kernel.invokeFunction('convertToInteractive',\n",
              "                                                    [key], {});\n",
              "        if (!dataTable) return;\n",
              "\n",
              "        const docLinkHtml = 'Like what you see? Visit the ' +\n",
              "          '<a target=\"_blank\" href=https://colab.research.google.com/notebooks/data_table.ipynb>data table notebook</a>'\n",
              "          + ' to learn more about interactive tables.';\n",
              "        element.innerHTML = '';\n",
              "        dataTable['output_type'] = 'display_data';\n",
              "        await google.colab.output.renderOutput(dataTable, element);\n",
              "        const docLink = document.createElement('div');\n",
              "        docLink.innerHTML = docLinkHtml;\n",
              "        element.appendChild(docLink);\n",
              "      }\n",
              "    </script>\n",
              "  </div>\n",
              "\n",
              "\n",
              "<div id=\"df-e75528dc-96ab-41d4-ae85-7c75d91151bf\">\n",
              "  <button class=\"colab-df-quickchart\" onclick=\"quickchart('df-e75528dc-96ab-41d4-ae85-7c75d91151bf')\"\n",
              "            title=\"Suggest charts\"\n",
              "            style=\"display:none;\">\n",
              "\n",
              "<svg xmlns=\"http://www.w3.org/2000/svg\" height=\"24px\"viewBox=\"0 0 24 24\"\n",
              "     width=\"24px\">\n",
              "    <g>\n",
              "        <path d=\"M19 3H5c-1.1 0-2 .9-2 2v14c0 1.1.9 2 2 2h14c1.1 0 2-.9 2-2V5c0-1.1-.9-2-2-2zM9 17H7v-7h2v7zm4 0h-2V7h2v10zm4 0h-2v-4h2v4z\"/>\n",
              "    </g>\n",
              "</svg>\n",
              "  </button>\n",
              "\n",
              "<style>\n",
              "  .colab-df-quickchart {\n",
              "      --bg-color: #E8F0FE;\n",
              "      --fill-color: #1967D2;\n",
              "      --hover-bg-color: #E2EBFA;\n",
              "      --hover-fill-color: #174EA6;\n",
              "      --disabled-fill-color: #AAA;\n",
              "      --disabled-bg-color: #DDD;\n",
              "  }\n",
              "\n",
              "  [theme=dark] .colab-df-quickchart {\n",
              "      --bg-color: #3B4455;\n",
              "      --fill-color: #D2E3FC;\n",
              "      --hover-bg-color: #434B5C;\n",
              "      --hover-fill-color: #FFFFFF;\n",
              "      --disabled-bg-color: #3B4455;\n",
              "      --disabled-fill-color: #666;\n",
              "  }\n",
              "\n",
              "  .colab-df-quickchart {\n",
              "    background-color: var(--bg-color);\n",
              "    border: none;\n",
              "    border-radius: 50%;\n",
              "    cursor: pointer;\n",
              "    display: none;\n",
              "    fill: var(--fill-color);\n",
              "    height: 32px;\n",
              "    padding: 0;\n",
              "    width: 32px;\n",
              "  }\n",
              "\n",
              "  .colab-df-quickchart:hover {\n",
              "    background-color: var(--hover-bg-color);\n",
              "    box-shadow: 0 1px 2px rgba(60, 64, 67, 0.3), 0 1px 3px 1px rgba(60, 64, 67, 0.15);\n",
              "    fill: var(--button-hover-fill-color);\n",
              "  }\n",
              "\n",
              "  .colab-df-quickchart-complete:disabled,\n",
              "  .colab-df-quickchart-complete:disabled:hover {\n",
              "    background-color: var(--disabled-bg-color);\n",
              "    fill: var(--disabled-fill-color);\n",
              "    box-shadow: none;\n",
              "  }\n",
              "\n",
              "  .colab-df-spinner {\n",
              "    border: 2px solid var(--fill-color);\n",
              "    border-color: transparent;\n",
              "    border-bottom-color: var(--fill-color);\n",
              "    animation:\n",
              "      spin 1s steps(1) infinite;\n",
              "  }\n",
              "\n",
              "  @keyframes spin {\n",
              "    0% {\n",
              "      border-color: transparent;\n",
              "      border-bottom-color: var(--fill-color);\n",
              "      border-left-color: var(--fill-color);\n",
              "    }\n",
              "    20% {\n",
              "      border-color: transparent;\n",
              "      border-left-color: var(--fill-color);\n",
              "      border-top-color: var(--fill-color);\n",
              "    }\n",
              "    30% {\n",
              "      border-color: transparent;\n",
              "      border-left-color: var(--fill-color);\n",
              "      border-top-color: var(--fill-color);\n",
              "      border-right-color: var(--fill-color);\n",
              "    }\n",
              "    40% {\n",
              "      border-color: transparent;\n",
              "      border-right-color: var(--fill-color);\n",
              "      border-top-color: var(--fill-color);\n",
              "    }\n",
              "    60% {\n",
              "      border-color: transparent;\n",
              "      border-right-color: var(--fill-color);\n",
              "    }\n",
              "    80% {\n",
              "      border-color: transparent;\n",
              "      border-right-color: var(--fill-color);\n",
              "      border-bottom-color: var(--fill-color);\n",
              "    }\n",
              "    90% {\n",
              "      border-color: transparent;\n",
              "      border-bottom-color: var(--fill-color);\n",
              "    }\n",
              "  }\n",
              "</style>\n",
              "\n",
              "  <script>\n",
              "    async function quickchart(key) {\n",
              "      const quickchartButtonEl =\n",
              "        document.querySelector('#' + key + ' button');\n",
              "      quickchartButtonEl.disabled = true;  // To prevent multiple clicks.\n",
              "      quickchartButtonEl.classList.add('colab-df-spinner');\n",
              "      try {\n",
              "        const charts = await google.colab.kernel.invokeFunction(\n",
              "            'suggestCharts', [key], {});\n",
              "      } catch (error) {\n",
              "        console.error('Error during call to suggestCharts:', error);\n",
              "      }\n",
              "      quickchartButtonEl.classList.remove('colab-df-spinner');\n",
              "      quickchartButtonEl.classList.add('colab-df-quickchart-complete');\n",
              "    }\n",
              "    (() => {\n",
              "      let quickchartButtonEl =\n",
              "        document.querySelector('#df-e75528dc-96ab-41d4-ae85-7c75d91151bf button');\n",
              "      quickchartButtonEl.style.display =\n",
              "        google.colab.kernel.accessAllowed ? 'block' : 'none';\n",
              "    })();\n",
              "  </script>\n",
              "</div>\n",
              "\n",
              "  <div id=\"id_9660d744-16bf-4d49-8e67-77e785b71437\">\n",
              "    <style>\n",
              "      .colab-df-generate {\n",
              "        background-color: #E8F0FE;\n",
              "        border: none;\n",
              "        border-radius: 50%;\n",
              "        cursor: pointer;\n",
              "        display: none;\n",
              "        fill: #1967D2;\n",
              "        height: 32px;\n",
              "        padding: 0 0 0 0;\n",
              "        width: 32px;\n",
              "      }\n",
              "\n",
              "      .colab-df-generate:hover {\n",
              "        background-color: #E2EBFA;\n",
              "        box-shadow: 0px 1px 2px rgba(60, 64, 67, 0.3), 0px 1px 3px 1px rgba(60, 64, 67, 0.15);\n",
              "        fill: #174EA6;\n",
              "      }\n",
              "\n",
              "      [theme=dark] .colab-df-generate {\n",
              "        background-color: #3B4455;\n",
              "        fill: #D2E3FC;\n",
              "      }\n",
              "\n",
              "      [theme=dark] .colab-df-generate:hover {\n",
              "        background-color: #434B5C;\n",
              "        box-shadow: 0px 1px 3px 1px rgba(0, 0, 0, 0.15);\n",
              "        filter: drop-shadow(0px 1px 2px rgba(0, 0, 0, 0.3));\n",
              "        fill: #FFFFFF;\n",
              "      }\n",
              "    </style>\n",
              "    <button class=\"colab-df-generate\" onclick=\"generateWithVariable('df')\"\n",
              "            title=\"Generate code using this dataframe.\"\n",
              "            style=\"display:none;\">\n",
              "\n",
              "  <svg xmlns=\"http://www.w3.org/2000/svg\" height=\"24px\"viewBox=\"0 0 24 24\"\n",
              "       width=\"24px\">\n",
              "    <path d=\"M7,19H8.4L18.45,9,17,7.55,7,17.6ZM5,21V16.75L18.45,3.32a2,2,0,0,1,2.83,0l1.4,1.43a1.91,1.91,0,0,1,.58,1.4,1.91,1.91,0,0,1-.58,1.4L9.25,21ZM18.45,9,17,7.55Zm-12,3A5.31,5.31,0,0,0,4.9,8.1,5.31,5.31,0,0,0,1,6.5,5.31,5.31,0,0,0,4.9,4.9,5.31,5.31,0,0,0,6.5,1,5.31,5.31,0,0,0,8.1,4.9,5.31,5.31,0,0,0,12,6.5,5.46,5.46,0,0,0,6.5,12Z\"/>\n",
              "  </svg>\n",
              "    </button>\n",
              "    <script>\n",
              "      (() => {\n",
              "      const buttonEl =\n",
              "        document.querySelector('#id_9660d744-16bf-4d49-8e67-77e785b71437 button.colab-df-generate');\n",
              "      buttonEl.style.display =\n",
              "        google.colab.kernel.accessAllowed ? 'block' : 'none';\n",
              "\n",
              "      buttonEl.onclick = () => {\n",
              "        google.colab.notebook.generateWithVariable('df');\n",
              "      }\n",
              "      })();\n",
              "    </script>\n",
              "  </div>\n",
              "\n",
              "    </div>\n",
              "  </div>\n"
            ],
            "application/vnd.google.colaboratory.intrinsic+json": {
              "type": "dataframe",
              "variable_name": "df",
              "summary": "{\n  \"name\": \"df\",\n  \"rows\": 6,\n  \"fields\": [\n    {\n      \"column\": \"Entrada (x)\",\n      \"properties\": {\n        \"dtype\": \"number\",\n        \"std\": 1.8708286933869707,\n        \"min\": 0.0,\n        \"max\": 5.0,\n        \"num_unique_values\": 6,\n        \"samples\": [\n          0.0,\n          1.0,\n          5.0\n        ],\n        \"semantic_type\": \"\",\n        \"description\": \"\"\n      }\n    },\n    {\n      \"column\": \"z\",\n      \"properties\": {\n        \"dtype\": \"number\",\n        \"std\": 7.483314773547883,\n        \"min\": -4.0,\n        \"max\": 16.0,\n        \"num_unique_values\": 6,\n        \"samples\": [\n          -4.0,\n          0.0,\n          16.0\n        ],\n        \"semantic_type\": \"\",\n        \"description\": \"\"\n      }\n    },\n    {\n      \"column\": \"Prob. de ser mal\\u00edgno\",\n      \"properties\": {\n        \"dtype\": \"number\",\n        \"std\": 0.4097569711918445,\n        \"min\": 0.01798620996209156,\n        \"max\": 0.9999998874648379,\n        \"num_unique_values\": 6,\n        \"samples\": [\n          0.01798620996209156,\n          0.5,\n          0.9999998874648379\n        ],\n        \"semantic_type\": \"\",\n        \"description\": \"\"\n      }\n    },\n    {\n      \"column\": \"Alvo\",\n      \"properties\": {\n        \"dtype\": \"number\",\n        \"std\": 0,\n        \"min\": 0,\n        \"max\": 1,\n        \"num_unique_values\": 2,\n        \"samples\": [\n          1,\n          0\n        ],\n        \"semantic_type\": \"\",\n        \"description\": \"\"\n      }\n    }\n  ]\n}"
            }
          },
          "metadata": {}
        }
      ],
      "source": [
        "x_trein = np.array([0., 1, 2, 3, 4, 5])\n",
        "y_trein = np.array([0,  0, 0, 1, 1, 1])\n",
        "\n",
        "w = 4\n",
        "b = -4\n",
        "\n",
        "z = w*x_trein + b\n",
        "f = sigmoide(z)\n",
        "\n",
        "print(z.shape)\n",
        "print(f.shape)\n",
        "\n",
        "# Criando uma tabela na forma de pandas dataframe\n",
        "\n",
        "import pandas as pd # importa a biblioteca pandas\n",
        "\n",
        "df = pd.DataFrame({\n",
        "    'Entrada (x)': x_trein,\n",
        "    'z': z,\n",
        "    'Prob. de ser malígno': f,\n",
        "    'Alvo': y_trein\n",
        "})\n",
        "\n",
        "pd.set_option('display.max_rows', None)\n",
        "display(df)"
      ]
    },
    {
      "cell_type": "markdown",
      "id": "d0537e8f",
      "metadata": {
        "id": "d0537e8f"
      },
      "source": [
        "Abaixo nós plotamos a curva de probabilidade obtida por meio do cálculo da saída do modelo para diferentes valores para x"
      ]
    },
    {
      "cell_type": "code",
      "execution_count": 19,
      "id": "8b256ff6",
      "metadata": {
        "colab": {
          "base_uri": "https://localhost:8080/",
          "height": 307
        },
        "id": "8b256ff6",
        "outputId": "c7a0cccc-f5aa-44cb-a170-bd569fa0fb75"
      },
      "outputs": [
        {
          "output_type": "display_data",
          "data": {
            "text/plain": [
              "<Figure size 400x300 with 1 Axes>"
            ],
            "image/png": "[encoded data removed]"
          },
          "metadata": {}
        }
      ],
      "source": [
        "x_train = np.array([0., 1, 2, 3, 4, 5])\n",
        "y_train = np.array([0,  0, 0, 1, 1, 1])\n",
        "\n",
        "pos = y_train == 1\n",
        "neg = y_train == 0\n",
        "\n",
        "fig,ax = plt.subplots(1,1,figsize=(4,3))\n",
        "\n",
        "ax.scatter(x_train[pos], y_train[pos], marker='x', s=80, c = 'red', label=\"y=1\")\n",
        "ax.scatter(x_train[neg], y_train[neg], marker='o', s=100, label=\"y=0\", facecolors='none',\n",
        "              edgecolors='b',lw=3)\n",
        "\n",
        "x = np.arange(0,5,0.01)\n",
        "z = w*x + b\n",
        "f = sigmoide(z)\n",
        "ax.plot(x, f, c = 'green',label=\"saída do modelo (probabilidade)\")\n",
        "ax.legend()\n",
        "\n",
        "\n",
        "plt.tight_layout()\n",
        "plt.show()"
      ]
    },
    {
      "cell_type": "markdown",
      "id": "7d2b8321",
      "metadata": {
        "pycharm": {
          "name": "#%% md\n"
        },
        "id": "7d2b8321"
      },
      "source": [
        "## Parabéns\n",
        "\n",
        "Com este código, você:\n",
        "- Explorou o conceito de classificação\n",
        "- implementou e utilizou a função sigmoide dentro do contexto de Regressão Logística"
      ]
    },
    {
      "cell_type": "code",
      "execution_count": null,
      "id": "646b2f5b",
      "metadata": {
        "pycharm": {
          "name": "#%%\n"
        },
        "id": "646b2f5b"
      },
      "outputs": [],
      "source": []
    }
  ],
  "metadata": {
    "kernelspec": {
      "display_name": "Python 3 (ipykernel)",
      "language": "python",
      "name": "python3"
    },
    "language_info": {
      "codemirror_mode": {
        "name": "ipython",
        "version": 3
      },
      "file_extension": ".py",
      "mimetype": "text/x-python",
      "name": "python",
      "nbconvert_exporter": "python",
      "pygments_lexer": "ipython3",
      "version": "3.9.12"
    },
    "colab": {
      "provenance": [],
      "include_colab_link": true
    }
  },
  "nbformat": 4,
  "nbformat_minor": 5
}