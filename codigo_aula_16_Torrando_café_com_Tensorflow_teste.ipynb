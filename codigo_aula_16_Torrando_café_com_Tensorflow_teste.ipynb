{
  "cells": [
    {
      "cell_type": "markdown",
      "metadata": {
        "id": "view-in-github",
        "colab_type": "text"
      },
      "source": [
        "<a href=\"https://colab.research.google.com/github/xaximpvp2/master/blob/main/codigo_aula_16_Torrando_caf%C3%A9_com_Tensorflow_teste.ipynb\" target=\"_parent\"><img src=\"https://colab.research.google.com/assets/colab-badge.svg\" alt=\"Open In Colab\"/></a>"
      ]
    },
    {
      "cell_type": "markdown",
      "metadata": {
        "id": "4TdaihEaERUo",
        "tags": []
      },
      "source": [
        "# codigo - torrando café com Tensorflow\n",
        "\n",
        "Neste código nós construíremos uma pequena rede neural usando Tensorflow\n"
      ]
    },
    {
      "cell_type": "code",
      "execution_count": 1,
      "metadata": {
        "id": "sI9dH3aVERUs"
      },
      "outputs": [],
      "source": [
        "import numpy as np\n",
        "import matplotlib.pyplot as plt\n",
        "import tensorflow as tf\n",
        "from tensorflow.keras.models import Sequential\n",
        "from tensorflow.keras.layers import Dense\n",
        "from nossa_biblioteca_de_funcoes_aula16 import *   # Importando as funções auxiliares que usaremos nesse código\n",
        "import logging\n",
        "logging.getLogger(\"tensorflow\").setLevel(logging.ERROR)\n",
        "tf.autograph.set_verbosity(0)\n"
      ]
    },
    {
      "cell_type": "markdown",
      "metadata": {
        "id": "XvlGFN9jERUw"
      },
      "source": [
        "## Conjunto de dados"
      ]
    },
    {
      "cell_type": "code",
      "execution_count": 2,
      "metadata": {
        "colab": {
          "base_uri": "https://localhost:8080/"
        },
        "id": "T5aXVn8SERUx",
        "outputId": "ad847683-f982-4f66-b972-646059e2bbc3"
      },
      "outputs": [
        {
          "output_type": "stream",
          "name": "stdout",
          "text": [
            "(200, 2) (200, 1)\n"
          ]
        }
      ],
      "source": [
        "X,Y = cria_dados_torrefacao_cafe();\n",
        "print(X.shape, Y.shape)"
      ]
    },
    {
      "cell_type": "markdown",
      "metadata": {
        "id": "2PxLSh3UERUy"
      },
      "source": [
        "Vamos plotar os dados de torrefação de café abaixo. As duas características são a temperatura em graus Celsius e a duração em minutos. [Essa referência aqui](https://www.merchantsofgreencoffee.com/how-to-roast-green-coffee-in-your-oven/) sugere que o melhor café é obtido quando a duração é mantida dentro do intervalo de 12 a 15 minutos enquanto a temperatura deve estar entre 175 e 260 graus. Naturalmente, à medida com que a temperatura aumenta, a duração deve ser menor."
      ]
    },
    {
      "cell_type": "code",
      "execution_count": null,
      "metadata": {
        "colab": {
          "base_uri": "https://localhost:8080/",
          "height": 490
        },
        "id": "SGeW8fg4ERUy",
        "outputId": "19b4f9ed-073e-4e2d-bb58-1147cb104ed1"
      },
      "outputs": [
        {
          "data": {
            "image/png": "[encoded data removed]",
            "text/plain": [
              "<Figure size 288x288 with 1 Axes>"
            ]
          },
          "metadata": {
            "needs_background": "light"
          },
          "output_type": "display_data"
        }
      ],
      "source": [
        "pos = Y.reshape(-1,) == 1 # identifica os elementos em y que são iguais a 1\n",
        "neg = Y.reshape(-1,) == 0 # identifica os elementos em y que são iguais a 0\n",
        "\n",
        "fig,ax = plt.subplots(1,1,figsize=(4,4))\n",
        "ax.plot(X[pos,0], X[pos,1], 'r+', label=\"Torrefação boa\")\n",
        "ax.plot(X[neg,0], X[neg,1], 'bo', label=\"Torrefação ruim\")\n",
        "\n",
        "#ax.axis([0, 4, 0, 3.5])\n",
        "ax.set_ylabel('Duração [min]')\n",
        "ax.set_xlabel('Temperatura [°C]')\n",
        "ax.legend(loc=\"upper right\")\n",
        "plt.show()"
      ]
    },
    {
      "cell_type": "markdown",
      "metadata": {
        "id": "8xpXRX2bERUz"
      },
      "source": [
        "### Normalizando os dados\n",
        "\n",
        "Encontrar parâmetros adequados para a nossa rede neural (pesos adequados) com base nos dados (técnica de propagação para trás) será mais rápido se os dados estiverem normalizados. Trata-se do mesmo procedimento (escalonamento de características) já visto, onde as características são normalizadas para que tenham um intervalo parecido de valores.\n",
        "\n",
        "O procedimento abaixo usa uma camada de normalização do Keras (https://keras.io/api/layers/preprocessing_layers/numerical/normalization/).\n",
        "\n",
        "Ela possui as seguintes etapas:\n",
        "- cria uma \"camada de normalização\". Note que, conforme aplicado aqui, isso não é uma camada do seu modelo.\n",
        "- 'adapta' os dados. Esse comando aprende a média e a variância do conjunto de dados e salva os valores internamente.\n",
        "- normaliza os dados\n",
        "\n",
        "Lembre-se que é importante aplicar essa normalização para quaisquer dados de características futuros que venham a ser utilizados no modelo já treinado."
      ]
    },
    {
      "cell_type": "code",
      "execution_count": null,
      "metadata": {
        "colab": {
          "base_uri": "https://localhost:8080/"
        },
        "id": "SsJFd2hnERU0",
        "outputId": "5f9f96c0-54cf-4a04-d70a-b3b44374c27c"
      },
      "outputs": [
        {
          "name": "stdout",
          "output_type": "stream",
          "text": [
            "Temperatura Max, Min pré normalização: 284.99, 151.32\n",
            "Duração     Max, Min pré normalização: 15.45, 11.51\n",
            "Temperatura Max, Min pós normalização: 1.66, -1.69\n",
            "Duração     Max, Min pós normalização: 1.79, -1.70\n"
          ]
        }
      ],
      "source": [
        "print(f\"Temperatura Max, Min pré normalização: {np.max(X[:,0]):0.2f}, {np.min(X[:,0]):0.2f}\")\n",
        "print(f\"Duração     Max, Min pré normalização: {np.max(X[:,1]):0.2f}, {np.min(X[:,1]):0.2f}\")\n",
        "camada_norm = tf.keras.layers.Normalization(axis=-1)\n",
        "camada_norm.adapt(X)  # calcula média e variância\n",
        "Xn = camada_norm(X) # características normalizadas\n",
        "print(f\"Temperatura Max, Min pós normalização: {np.max(Xn[:,0]):0.2f}, {np.min(Xn[:,0]):0.2f}\")\n",
        "print(f\"Duração     Max, Min pós normalização: {np.max(Xn[:,1]):0.2f}, {np.min(Xn[:,1]):0.2f}\")"
      ]
    },
    {
      "cell_type": "markdown",
      "metadata": {
        "id": "BRKO5GgpERU1"
      },
      "source": [
        "Abaixo nós estamos duplicando nosso conjunto de dados de treinamento em 1000 vezes, passando de 200 amostras para 200000. Isso reduz o número de épocas necessárias para o treinamento do modelo. É definição de \"Época\" é dada logo mais neste código"
      ]
    },
    {
      "cell_type": "code",
      "execution_count": null,
      "metadata": {
        "colab": {
          "base_uri": "https://localhost:8080/"
        },
        "id": "Yp4tL500ERU1",
        "outputId": "f4490ed2-194b-483a-f1a3-8997a301788b"
      },
      "outputs": [
        {
          "name": "stdout",
          "output_type": "stream",
          "text": [
            "(200000, 2) (200000, 1)\n"
          ]
        }
      ],
      "source": [
        "Xt = np.tile(Xn,(1000,1))\n",
        "Yt = np.tile(Y,(1000,1))\n",
        "print(Xt.shape, Yt.shape)"
      ]
    },
    {
      "cell_type": "markdown",
      "metadata": {
        "id": "wmjk8haQERU2"
      },
      "source": [
        "## Modelo Tensorflow"
      ]
    },
    {
      "cell_type": "markdown",
      "metadata": {
        "id": "-hNlStCGERU3"
      },
      "source": [
        "### Modelo\n",
        "\n",
        "Vamos agora construir a Rede Neural para torrefação de café descrita nos slides.\n",
        "Usaremos duas camadas com ativações do tipo sigmoide, conforme mostrado abaixo."
      ]
    },
    {
      "cell_type": "code",
      "execution_count": null,
      "metadata": {
        "id": "doRGkYcgERU4"
      },
      "outputs": [],
      "source": [
        "tf.random.set_seed(1234)  # semente do gerador de números aleatórios. Utilize sempre o mesmo valor para que os resultados sejam sempre os mesmos\n",
        "modelo = Sequential(\n",
        "    [\n",
        "        tf.keras.Input(shape=(2,)),\n",
        "        Dense(3, activation='sigmoid', name = 'camada1'),\n",
        "        Dense(1, activation='sigmoid', name = 'camada2')\n",
        "     ]\n",
        ")"
      ]
    },
    {
      "cell_type": "markdown",
      "metadata": {
        "id": "grMeb4IKERU4"
      },
      "source": [
        ">**OBS 1:** O comando `tf.keras.Input(shape=(2,)),`\n",
        "especifica o shape esperado para a entrada da rede neural. Isso permite que o Tensorflow já saiba o número de parâmetros $w$ e $b$ da rede antecipadamente. Na prática, esse comando pode ser omitido. Nesse caso, o Tensorflow irá ajustar o número de entradas da rede quando os dados de entrada forem especificados pelo comando `modelo.fit`.\n",
        "\n",
        ">**OBS 2:** Incluir a função de ativação do tipo sigmoide na última camada da rede não é considerado uma boa prática por questões numéricas que discutiremos mais para frente.\n",
        "\n",
        "O comando `modelo.summary()` nos fornece uma descrição da rede que acabamos de criar:"
      ]
    },
    {
      "cell_type": "code",
      "execution_count": null,
      "metadata": {
        "colab": {
          "base_uri": "https://localhost:8080/"
        },
        "id": "aAZkKIaIERU5",
        "outputId": "75790c96-ade4-4c75-d6df-4c540f712b09"
      },
      "outputs": [
        {
          "name": "stdout",
          "output_type": "stream",
          "text": [
            "Model: \"sequential\"\n",
            "_________________________________________________________________\n",
            " Layer (type)                Output Shape              Param #   \n",
            "=================================================================\n",
            " camada1 (Dense)             (None, 3)                 9         \n",
            "                                                                 \n",
            " camada2 (Dense)             (None, 1)                 4         \n",
            "                                                                 \n",
            "=================================================================\n",
            "Total params: 13\n",
            "Trainable params: 13\n",
            "Non-trainable params: 0\n",
            "_________________________________________________________________\n"
          ]
        }
      ],
      "source": [
        "modelo.summary()"
      ]
    },
    {
      "cell_type": "markdown",
      "metadata": {
        "id": "iz5QhLWlERU5"
      },
      "source": [
        "A contagem de parâmetros mostrada acima corresponde ao número de elementos nas arrays de peso e de bias conforme mostrado abaixo."
      ]
    },
    {
      "cell_type": "code",
      "execution_count": null,
      "metadata": {
        "colab": {
          "base_uri": "https://localhost:8080/"
        },
        "id": "O37VagBSERU5",
        "outputId": "cf45b692-ce64-410e-ef80-cf4307b5affe"
      },
      "outputs": [
        {
          "name": "stdout",
          "output_type": "stream",
          "text": [
            "Número de parâmetros camada 1 =  9 , Número de parâmetros camada 1 =  4\n"
          ]
        }
      ],
      "source": [
        "param_camada1 = 2 * 3 + 3   # W1 parameters  + b1 parameters\n",
        "param_camada2 = 3 * 1 + 1   # W2 parameters  + b2 parameters\n",
        "print(\"Número de parâmetros camada 1 = \", param_camada1, \", Número de parâmetros camada 1 = \", param_camada2  )"
      ]
    },
    {
      "cell_type": "markdown",
      "metadata": {
        "id": "q9SJOMGxERU6"
      },
      "source": [
        "Vamos examinar os valores que o Tensorflow usou para inicializar os pesos da nossa rede.  O shape dos pesos $W$ numa camada da rede deve ser (número de características na sua entrada, número de unidades/neurônios na camada).\n",
        "Já o shape dos termos de bias $b$ de uma camada deve ser igual ao número de unidades/neurônios presente na camada.\n",
        "- Na primeira camada da nossa rede, que possui 3 unidades/neurônios, esperamos que $W$ tenha tamanho (2,3) e que $b$ tenha 3 elementos.\n",
        "- Na segunda camada da nossa rede, que possui apenas 1 unidade/neurônio, esperamos que $W$ tenha tamanho (3,1) e $b$ tenha 1 elemento."
      ]
    },
    {
      "cell_type": "code",
      "execution_count": null,
      "metadata": {
        "colab": {
          "base_uri": "https://localhost:8080/"
        },
        "id": "2ROUYxOIERU6",
        "outputId": "48d1f74c-d68d-4c46-de8e-7e05892b675a"
      },
      "outputs": [
        {
          "name": "stdout",
          "output_type": "stream",
          "text": [
            "W1(2, 3):\n",
            " [[-0.8714635   0.54088295  0.7247106 ]\n",
            " [-0.6120522  -1.0348723  -0.32838643]] \n",
            "b1(3,): [0. 0. 0.]\n",
            "W2(3, 1):\n",
            " [[-0.19611287]\n",
            " [-0.0876286 ]\n",
            " [-0.9408577 ]] \n",
            "b2(1,): [0.]\n"
          ]
        }
      ],
      "source": [
        "W1, b1 = modelo.get_layer(\"camada1\").get_weights()  # acessando os parâmetros da camada 1\n",
        "W2, b2 = modelo.get_layer(\"camada2\").get_weights()  # acessando os parâmetros da camada 2\n",
        "print(f\"W1{W1.shape}:\\n\", W1, f\"\\nb1{b1.shape}:\", b1)\n",
        "print(f\"W2{W2.shape}:\\n\", W2, f\"\\nb2{b2.shape}:\", b2)"
      ]
    },
    {
      "cell_type": "markdown",
      "metadata": {
        "id": "akdaKiG3ERU6"
      },
      "source": [
        "Os 2 comandos usados a seguir serão explicados em mais detalhes nas aulas seguintes. Por enquanto, basta sabermos que:\n",
        "- O comando `modelo.compile` irá definir a função de perda e irá especificar o tipo de otimização utilizada.\n",
        "- O comando `modelo.fit` roda o Método do Gradiente para ajustar os parâmetros do modelo aos dados."
      ]
    },
    {
      "cell_type": "code",
      "execution_count": null,
      "metadata": {
        "colab": {
          "base_uri": "https://localhost:8080/"
        },
        "id": "HmqT-gtTERU7",
        "outputId": "6e0f5361-2247-4785-df21-48c6ca2898e7",
        "scrolled": true,
        "tags": []
      },
      "outputs": [
        {
          "name": "stdout",
          "output_type": "stream",
          "text": [
            "Epoch 1/10\n",
            "6250/6250 [==============================] - 7s 982us/step - loss: 0.1720\n",
            "Epoch 2/10\n",
            "6250/6250 [==============================] - 6s 906us/step - loss: 0.1147\n",
            "Epoch 3/10\n",
            "6250/6250 [==============================] - 5s 874us/step - loss: 0.0366\n",
            "Epoch 4/10\n",
            "6250/6250 [==============================] - 5s 871us/step - loss: 0.0153\n",
            "Epoch 5/10\n",
            "6250/6250 [==============================] - 5s 872us/step - loss: 0.0101\n",
            "Epoch 6/10\n",
            "6250/6250 [==============================] - 5s 862us/step - loss: 0.0071\n",
            "Epoch 7/10\n",
            "6250/6250 [==============================] - 5s 871us/step - loss: 0.0050\n",
            "Epoch 8/10\n",
            "6250/6250 [==============================] - 5s 879us/step - loss: 0.0036\n",
            "Epoch 9/10\n",
            "6250/6250 [==============================] - 6s 904us/step - loss: 0.0026\n",
            "Epoch 10/10\n",
            "6250/6250 [==============================] - 6s 883us/step - loss: 0.0019\n"
          ]
        },
        {
          "data": {
            "text/plain": [
              "<keras.callbacks.History at 0x2767c483ee0>"
            ]
          },
          "execution_count": 10,
          "metadata": {},
          "output_type": "execute_result"
        }
      ],
      "source": [
        "modelo.compile(\n",
        "    loss = tf.keras.losses.BinaryCrossentropy(),\n",
        "    optimizer = tf.keras.optimizers.Adam(learning_rate=0.01),\n",
        ")\n",
        "\n",
        "modelo.fit(\n",
        "    Xt,Yt,\n",
        "    epochs=10,\n",
        ")"
      ]
    },
    {
      "cell_type": "markdown",
      "metadata": {
        "id": "Sz_zBRhtERU7"
      },
      "source": [
        "#### Parâmetros atualizados:\n",
        "\n",
        "Agora que já treinamos o modelo, note que os valores dos seus 13 parâmetros foram atualizados:"
      ]
    },
    {
      "cell_type": "code",
      "execution_count": null,
      "metadata": {
        "colab": {
          "base_uri": "https://localhost:8080/"
        },
        "id": "GEr_4CZZERU8",
        "outputId": "e8f5a25a-8287-4ad5-b29e-3badfdee2710"
      },
      "outputs": [
        {
          "name": "stdout",
          "output_type": "stream",
          "text": [
            "W1:\n",
            " [[-11.03198     -0.12201332  14.350408  ]\n",
            " [ -0.25525227  -8.993626    11.895702  ]] \n",
            "b1: [-12.018852  -11.258608    1.7846271]\n",
            "W2:\n",
            " [[-50.35648 ]\n",
            " [-45.972385]\n",
            " [-42.928257]] \n",
            "b2: [26.344765]\n"
          ]
        }
      ],
      "source": [
        "W1, b1 = modelo.get_layer(\"camada1\").get_weights()\n",
        "W2, b2 = modelo.get_layer(\"camada2\").get_weights()\n",
        "print(\"W1:\\n\", W1, \"\\nb1:\", b1)\n",
        "print(\"W2:\\n\", W2, \"\\nb2:\", b2)"
      ]
    },
    {
      "cell_type": "markdown",
      "metadata": {
        "id": "bsAcJCu8ERVB"
      },
      "source": [
        "#### Lotes e épocas\n",
        "\n",
        "O método do **gradiente clássico** que estudamos até agora usava, em cada iteração, todas as amostras do conjunto de dados de treinamento.\n",
        "\n",
        "Acontece que esse método clássico é muito custoso computacionalmente. Basta você pensar que, se o número de exemplos de treinamento é grande (por exemplo, 200 mil), cada amostra com 2 características, pelo menos 400 mil valores são computados em cada iteração.\n",
        "\n",
        "Buscando tornar o processo de treinamento do modelo mais eficiente computacionalmente, surgiu o **método do gradiente em mini-lotes** (ou, em inglês, mini-batch gradient descent).\n",
        "\n",
        "No método do gradiente em mini-lotes, o conjunto de dados de treinamento é dividido em 'lotes de amostras'. O tamanho padrão de cada lote no Tensorflow é de 32 exemplos de treinamento.\n",
        "Como há 200000 amostras no nosso conjunto de dados expandido, isso significa que teremos 200000/32=6250 lotes.\n",
        "Assim, em cada iteração, o método do gradiente opera em cima de apenas um desses lotes de amostras, passando para o lote seguinte na iteração seguinte.\n",
        "\n",
        "Ao passar por todos os 6250 mini-lotes de amostra, significa que método do gradiente completou sua primeira 'varredura' em cima do conjunto completo de dados. O número de varreduras que é feita em cima de todos os dados é também chamado de 'número de épocas'.\n",
        "\n",
        "\n",
        "Com o comando `fit` acima, note que o número de épocas foi definido como sendo 10. Isso significa que o conjunto completo de dados foi aplicado 10 vezes no processo de treinamento do modelo. Durante o treinamento do modelo, o progresso de treinamento é mostrado conforme abaixo:\n",
        "```\n",
        "Epoch 1/10\n",
        "6250/6250 [==============================] - 6s 910us/step - loss: 0.1782\n",
        "```\n",
        "A primeira linha, `Epoch 1/10`, descreve a época na qual o modelo encontra-se rodando atualmente."
      ]
    },
    {
      "cell_type": "markdown",
      "metadata": {
        "id": "uca0YOELERU8"
      },
      "source": [
        "#### Carregando um conjunto de pesos conhecidos\n",
        "\n",
        "A seguir, nós carregamos alguns pesos salvos a partir de um treinamento feito anteriormente. Isso é para que este notebook torne-se robusto a mudanças do Tensorflow ao longo do tempo. Cada vez que rodamos o Tensorflow para um problema podemos obter pesos diferentes.\n",
        "\n",
        "Sinta-se livre para rodar novamente o código considerando os próprios parâmetros que você treinou para a rede, comparando então os resultados."
      ]
    },
    {
      "cell_type": "code",
      "execution_count": null,
      "metadata": {
        "id": "VVaKQh-mERU9"
      },
      "outputs": [],
      "source": [
        "W1 = np.array([\n",
        "    [-8.94,  0.29, 12.89],\n",
        "    [-0.17, -7.34, 10.79]] )\n",
        "b1 = np.array([-9.87, -9.28,  1.01])\n",
        "W2 = np.array([\n",
        "    [-31.38],\n",
        "    [-27.86],\n",
        "    [-32.79]])\n",
        "b2 = np.array([15.54])\n",
        "modelo.get_layer(\"camada1\").set_weights([W1,b1])\n",
        "modelo.get_layer(\"camada2\").set_weights([W2,b2])"
      ]
    },
    {
      "cell_type": "markdown",
      "metadata": {
        "id": "MYraELZllKCw"
      },
      "source": [
        "### Previsões com o modelo\n",
        "\n",
        "Uma vez que você treinou o modelo, você pode então usá-lo para realizar previsões.\n",
        "Lembre-se que a saída do nosso modelo é uma probabilidade. Nesse caso, é a probabilidade de uma boa torra para o café. Para tomar uma decisão, precisamos aplicar um valor de limiar à probabilidade. Nesse caso, vamos usar um limiar de 0.5.\n",
        "\n",
        "O modelo recebe um ou mais exemplos, cada exemplo numa linha da matriz. Nesse caso, nós temos duas características, tal que a matriz será (m,2), onde m é o número de exemplos que usaremos no nosso modelo.\n",
        "\n",
        "\n",
        "Para realizar uma previsão, usamos o comando `predict`.\n",
        "\n"
      ]
    },
    {
      "cell_type": "code",
      "execution_count": null,
      "metadata": {
        "colab": {
          "base_uri": "https://localhost:8080/"
        },
        "id": "82kpV9B0ERVA",
        "outputId": "d5b39041-1b4e-4de1-d83e-e8583893de43"
      },
      "outputs": [
        {
          "name": "stdout",
          "output_type": "stream",
          "text": [
            "7/7 [==============================] - 0s 2ms/step\n",
            "Taxa de acerto para os dados de treinamento: 100.0\n"
          ]
        }
      ],
      "source": [
        "probabilidades = modelo.predict(Xn) # Xn são as características normalizadas do nosso conjunto de dados de treinamento\n",
        "\n",
        "ychapeu = np.zeros_like(probabilidades)\n",
        "for i in range(len(probabilidades)):\n",
        "    if probabilidades[i] >= 0.5:\n",
        "        ychapeu[i] = 1\n",
        "    else:\n",
        "        ychapeu[i] = 0\n",
        "\n",
        "print(\"Taxa de acerto para os dados de treinamento:\", (np.mean(Y == ychapeu) * 100))"
      ]
    },
    {
      "cell_type": "markdown",
      "metadata": {
        "id": "WGsoMFAfERU-"
      },
      "source": [
        "### Previsões com novos dados"
      ]
    },
    {
      "cell_type": "markdown",
      "metadata": {
        "id": "4_DH11RgERU_"
      },
      "source": [
        "Vamos agora criar novos dados e verificar as previsões feitas pelo modelo. Vamos começar criando os dados de entrada.\n",
        "\n",
        "Lembre-se, nós normalizamos as características de entrada com base nos dados de treinamento. Portanto, temos que também normalizar esse nosso novo conjunto de dados de teste."
      ]
    },
    {
      "cell_type": "code",
      "execution_count": null,
      "metadata": {
        "colab": {
          "base_uri": "https://localhost:8080/"
        },
        "id": "vDAhKI34iZPJ",
        "outputId": "cc866323-c0a8-4455-833d-9d38723b4df8"
      },
      "outputs": [
        {
          "name": "stdout",
          "output_type": "stream",
          "text": [
            "1/1 [==============================] - 0s 17ms/step\n",
            "probabilidades = \n",
            " [[9.625139e-01]\n",
            " [3.031606e-08]]\n"
          ]
        }
      ],
      "source": [
        "X_teste = np.array([\n",
        "    [200,13.9],  # exemplo positivo (espera-se que seja igual a 1)\n",
        "    [200,17]])   # exemplo negativo (espera-se que seja igual a 0)\n",
        "X_testen        = camada_norm(X_teste)\n",
        "probabilidades  = modelo.predict(X_testen)\n",
        "print(f\"probabilidades = \\n\", f\"{probabilidades}\")"
      ]
    },
    {
      "cell_type": "markdown",
      "metadata": {
        "id": "teRV7HHkERVC"
      },
      "source": [
        "Para converter as probabilidade numa decisão, nós usamos um valor de limiar:"
      ]
    },
    {
      "cell_type": "code",
      "execution_count": null,
      "metadata": {
        "colab": {
          "base_uri": "https://localhost:8080/"
        },
        "id": "hG6YBjN-ERVD",
        "outputId": "4010d5a0-e798-457a-e902-2f89220e9007"
      },
      "outputs": [
        {
          "name": "stdout",
          "output_type": "stream",
          "text": [
            "decisões = \n",
            "[[1.]\n",
            " [0.]]\n"
          ]
        }
      ],
      "source": [
        "ychapeu = np.zeros_like(probabilidades)\n",
        "for i in range(len(probabilidades)):\n",
        "    if probabilidades[i] >= 0.5:\n",
        "        ychapeu[i] = 1\n",
        "    else:\n",
        "        ychapeu[i] = 0\n",
        "print(f\"decisões = \\n{ychapeu}\")"
      ]
    },
    {
      "cell_type": "markdown",
      "metadata": {
        "id": "fInLWSnFERVD"
      },
      "source": [
        "Também podemos fazer isso de forma mais sucinta:"
      ]
    },
    {
      "cell_type": "code",
      "execution_count": null,
      "metadata": {
        "colab": {
          "base_uri": "https://localhost:8080/"
        },
        "id": "2W5dNZZxERVE",
        "outputId": "99fdefad-4b48-44e9-da29-3a260fb6d154"
      },
      "outputs": [
        {
          "name": "stdout",
          "output_type": "stream",
          "text": [
            "decisões = \n",
            "[[1]\n",
            " [0]]\n"
          ]
        }
      ],
      "source": [
        "ychapeu = (probabilidades >= 0.5).astype(int)\n",
        "print(f\"decisões = \\n{ychapeu}\")"
      ]
    },
    {
      "cell_type": "markdown",
      "metadata": {
        "id": "SVDGzR-NERVK"
      },
      "source": [
        "## Parabéns!\n",
        "\n",
        "Você criou e treinou uma pequena rede neural usando Tensorflow.\n",
        "A rede demonstrou a habilidade das redes neurais em lidar com decisões complexas dividindo as decisões entre múltiplas unidades (neurônios)."
      ]
    },
    {
      "cell_type": "code",
      "execution_count": null,
      "metadata": {
        "id": "62mRleAvzN_u"
      },
      "outputs": [],
      "source": []
    }
  ],
  "metadata": {
    "colab": {
      "provenance": [],
      "include_colab_link": true
    },
    "kernelspec": {
      "display_name": "Python 3 (ipykernel)",
      "language": "python",
      "name": "python3"
    },
    "language_info": {
      "codemirror_mode": {
        "name": "ipython",
        "version": 3
      },
      "file_extension": ".py",
      "mimetype": "text/x-python",
      "name": "python",
      "nbconvert_exporter": "python",
      "pygments_lexer": "ipython3",
      "version": "3.9.12"
    }
  },
  "nbformat": 4,
  "nbformat_minor": 0
}